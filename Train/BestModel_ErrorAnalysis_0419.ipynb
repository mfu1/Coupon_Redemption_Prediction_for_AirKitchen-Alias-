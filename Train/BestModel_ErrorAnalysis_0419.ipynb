{
 "cells": [
  {
   "cell_type": "code",
   "execution_count": 2,
   "metadata": {
    "collapsed": true
   },
   "outputs": [],
   "source": [
    "from sklearn import preprocessing\n",
    "from sklearn.utils import shuffle\n",
    "import pandas as pd\n",
    "import numpy as np\n",
    "import sys\n",
    "from sklearn.externals import joblib\n",
    "import operator\n",
    "from sklearn.metrics import make_scorer\n",
    "from xgboost import XGBClassifier\n",
    "from sklearn.preprocessing import StandardScaler, MinMaxScaler, MaxAbsScaler, RobustScaler\n",
    "from sklearn.model_selection import GridSearchCV\n",
    "from sklearn.model_selection import StratifiedKFold\n",
    "from sklearn.model_selection import ParameterGrid\n",
    "from sklearn.ensemble import GradientBoostingClassifier, AdaBoostClassifier, RandomForestClassifier\n",
    "from sklearn.metrics import confusion_matrix, fbeta_score, precision_score, recall_score, accuracy_score, roc_auc_score, average_precision_score"
   ]
  },
  {
   "cell_type": "code",
   "execution_count": 169,
   "metadata": {
    "collapsed": true
   },
   "outputs": [],
   "source": [
    "trainset_robust_scaled = pd.read_csv('trainset_robust_scaled.csv')"
   ]
  },
  {
   "cell_type": "code",
   "execution_count": 170,
   "metadata": {},
   "outputs": [
    {
     "data": {
      "text/plain": [
       "(4422530, 77)"
      ]
     },
     "execution_count": 170,
     "metadata": {},
     "output_type": "execute_result"
    }
   ],
   "source": [
    "trainset_robust_scaled.shape"
   ]
  },
  {
   "cell_type": "code",
   "execution_count": 97,
   "metadata": {
    "collapsed": true
   },
   "outputs": [],
   "source": [
    "testset_robust_scaled = pd.read_csv('testset_robust_scaled.csv')"
   ]
  },
  {
   "cell_type": "code",
   "execution_count": 98,
   "metadata": {
    "collapsed": true
   },
   "outputs": [],
   "source": [
    "# Since dropping the coupon_based features drops the AUC score the most, let's check why\n",
    "# first, we look at the model that includes coupon based features and see what features in the set are important. \n",
    "# Try dropping it from the model and check auc and recall since they drop the most\n",
    "# next, we can look at the feature distributions in the correct and error class. \n",
    "\n",
    "\n",
    "clf_all_features = joblib.load('clf_group9.pkl')\n",
    "clf_group1 = joblib.load('clf_group5.pkl')\n",
    "clf_group2 = joblib.load('clf_group6.pkl')\n",
    "clf_group3 = joblib.load('clf_group7.pkl')"
   ]
  },
  {
   "cell_type": "code",
   "execution_count": 85,
   "metadata": {
    "collapsed": true
   },
   "outputs": [],
   "source": [
    "coupon_based_features = ['coupon_effective_days', 'money', 'max_money', 'type1', 'type6', \n",
    "               'Complaints', 'Eventsoperation', 'NewUserCouponPackageByBD', 'PreUserCouponCode', 'RecallUserDaily', 'home201603222253', \n",
    "               'home_dongbeiguan', 'home_jiangzhecai', 'home_muqinjie', 'home_xiangcaiguan', 'preuser', 'shareuser', \n",
    "               '商家拒单返券', '家厨发券', '活动赠券', '码兑券', '自运营赠券', '蒲公英受邀', 'covers_mon', 'covers_tue', 'covers_wed', 'covers_thu', 'covers_fri', 'covers_sat', 'covers_sun']"
   ]
  },
  {
   "cell_type": "code",
   "execution_count": 86,
   "metadata": {
    "collapsed": true
   },
   "outputs": [],
   "source": [
    "feature_analysis = pd.read_csv(\"feature_set_analysis.csv\")\n",
    "feature_analysis.sort_values(by='sorted_feature_importances', inplace=True)\n",
    "feature_list = [i[0] for i in eval(feature_analysis.loc[7, 'sorted_feature_importances'])]\n",
    "drop_feature_order = dict()"
   ]
  },
  {
   "cell_type": "code",
   "execution_count": 95,
   "metadata": {},
   "outputs": [
    {
     "data": {
      "text/plain": [
       "['Recency_fillna_w_start_date',\n",
       " 'user_longitude_median',\n",
       " 'user_latitude_median',\n",
       " 'worth_money_median',\n",
       " 'distance_median',\n",
       " 'money',\n",
       " 'coupon_usage_rate',\n",
       " 'InterOrder_fillna_w_start_date',\n",
       " 'kitchen_entropy',\n",
       " 'coupon_type1_usage_rate',\n",
       " 'worth_money_std',\n",
       " 'distance_std',\n",
       " 'InterCoup_fillna_w_start_date',\n",
       " 'order_coupon_usage_rate',\n",
       " 'coupon_effective_days',\n",
       " 'order_weekend_perc',\n",
       " 'BiWeeklyOrderCount',\n",
       " 'WeeklyOrderCount',\n",
       " 'max_money',\n",
       " 'age_0',\n",
       " 'user_longitude_std',\n",
       " 'coupon_used_weekend_perc',\n",
       " 'user_latitude_std',\n",
       " 'BiWeeklyCouponUsedCount',\n",
       " 'coupon_type6_usage_rate',\n",
       " 'WeeklyCouponUsedCount',\n",
       " 'city1',\n",
       " 'city2',\n",
       " 'covers_sun',\n",
       " 'covers_wed',\n",
       " 'covers_sat',\n",
       " 'covers_thu',\n",
       " 'city4',\n",
       " 'sex_2',\n",
       " 'type1',\n",
       " 'AppVerLast_2.7',\n",
       " 'covers_mon',\n",
       " 'covers_tue',\n",
       " 'covers_fri',\n",
       " '\\xe6\\xb4\\xbb\\xe5\\x8a\\xa8\\xe8\\xb5\\xa0\\xe5\\x88\\xb8',\n",
       " 'age_80',\n",
       " 'age_90',\n",
       " 'sex_1',\n",
       " 'shareuser',\n",
       " 'city5',\n",
       " 'age_70',\n",
       " 'CoupUseLast',\n",
       " 'city3',\n",
       " '\\xe7\\xa0\\x81\\xe5\\x85\\x91\\xe5\\x88\\xb8',\n",
       " '\\xe5\\xae\\xb6\\xe5\\x8e\\xa8\\xe5\\x8f\\x91\\xe5\\x88\\xb8',\n",
       " 'RecallUserDaily',\n",
       " 'type6',\n",
       " 'age_60',\n",
       " '\\xe8\\x87\\xaa\\xe8\\xbf\\x90\\xe8\\x90\\xa5\\xe8\\xb5\\xa0\\xe5\\x88\\xb8',\n",
       " 'home_muqinjie',\n",
       " 'AppVerLast_2.5',\n",
       " 'preuser',\n",
       " 'home_jiangzhecai',\n",
       " 'AppVerLast_2.4',\n",
       " '\\xe8\\x92\\xb2\\xe5\\x85\\xac\\xe8\\x8b\\xb1\\xe5\\x8f\\x97\\xe9\\x82\\x80',\n",
       " 'home201603222253',\n",
       " '\\xe5\\x95\\x86\\xe5\\xae\\xb6\\xe6\\x8b\\x92\\xe5\\x8d\\x95\\xe8\\xbf\\x94\\xe5\\x88\\xb8',\n",
       " 'AppVerLast_2.3',\n",
       " 'PreUserCouponCode',\n",
       " 'home_dongbeiguan',\n",
       " 'Complaints',\n",
       " 'AppVerLast_2.1',\n",
       " 'AppVerLast_2.2',\n",
       " 'AppVerLast_2.8',\n",
       " 'home_xiangcaiguan',\n",
       " 'NewUserCouponPackageByBD',\n",
       " 'Eventsoperation']"
      ]
     },
     "execution_count": 95,
     "metadata": {},
     "output_type": "execute_result"
    }
   ],
   "source": [
    "feature_list"
   ]
  },
  {
   "cell_type": "code",
   "execution_count": 92,
   "metadata": {},
   "outputs": [
    {
     "data": {
      "text/plain": [
       "{'Complaints': 65,\n",
       " 'Eventsoperation': 71,\n",
       " 'NewUserCouponPackageByBD': 70,\n",
       " 'PreUserCouponCode': 63,\n",
       " 'RecallUserDaily': 50,\n",
       " 'coupon_effective_days': 14,\n",
       " 'covers_fri': 38,\n",
       " 'covers_mon': 36,\n",
       " 'covers_sat': 30,\n",
       " 'covers_sun': 28,\n",
       " 'covers_thu': 31,\n",
       " 'covers_tue': 37,\n",
       " 'covers_wed': 29,\n",
       " 'home201603222253': 60,\n",
       " 'home_dongbeiguan': 64,\n",
       " 'home_jiangzhecai': 57,\n",
       " 'home_muqinjie': 54,\n",
       " 'home_xiangcaiguan': 69,\n",
       " 'max_money': 18,\n",
       " 'money': 5,\n",
       " 'preuser': 56,\n",
       " 'shareuser': 43,\n",
       " 'type1': 34,\n",
       " 'type6': 51,\n",
       " '\\xe5\\x95\\x86\\xe5\\xae\\xb6\\xe6\\x8b\\x92\\xe5\\x8d\\x95\\xe8\\xbf\\x94\\xe5\\x88\\xb8': 61,\n",
       " '\\xe5\\xae\\xb6\\xe5\\x8e\\xa8\\xe5\\x8f\\x91\\xe5\\x88\\xb8': 49,\n",
       " '\\xe6\\xb4\\xbb\\xe5\\x8a\\xa8\\xe8\\xb5\\xa0\\xe5\\x88\\xb8': 39,\n",
       " '\\xe7\\xa0\\x81\\xe5\\x85\\x91\\xe5\\x88\\xb8': 48,\n",
       " '\\xe8\\x87\\xaa\\xe8\\xbf\\x90\\xe8\\x90\\xa5\\xe8\\xb5\\xa0\\xe5\\x88\\xb8': 53,\n",
       " '\\xe8\\x92\\xb2\\xe5\\x85\\xac\\xe8\\x8b\\xb1\\xe5\\x8f\\x97\\xe9\\x82\\x80': 59}"
      ]
     },
     "execution_count": 92,
     "metadata": {},
     "output_type": "execute_result"
    }
   ],
   "source": [
    "drop_feature_order"
   ]
  },
  {
   "cell_type": "code",
   "execution_count": 93,
   "metadata": {
    "collapsed": true
   },
   "outputs": [],
   "source": [
    "for feature in coupon_based_features:\n",
    "    if feature in feature_list:\n",
    "        rank = feature_list.index(feature)\n",
    "        drop_feature_order[rank] = feature"
   ]
  },
  {
   "cell_type": "code",
   "execution_count": 94,
   "metadata": {},
   "outputs": [
    {
     "data": {
      "text/plain": [
       "{5: 'money',\n",
       " 14: 'coupon_effective_days',\n",
       " 18: 'max_money',\n",
       " 28: 'covers_sun',\n",
       " 29: 'covers_wed',\n",
       " 30: 'covers_sat',\n",
       " 31: 'covers_thu',\n",
       " 34: 'type1',\n",
       " 36: 'covers_mon',\n",
       " 37: 'covers_tue',\n",
       " 38: 'covers_fri',\n",
       " 39: '\\xe6\\xb4\\xbb\\xe5\\x8a\\xa8\\xe8\\xb5\\xa0\\xe5\\x88\\xb8',\n",
       " 43: 'shareuser',\n",
       " 48: '\\xe7\\xa0\\x81\\xe5\\x85\\x91\\xe5\\x88\\xb8',\n",
       " 49: '\\xe5\\xae\\xb6\\xe5\\x8e\\xa8\\xe5\\x8f\\x91\\xe5\\x88\\xb8',\n",
       " 50: 'RecallUserDaily',\n",
       " 51: 'type6',\n",
       " 53: '\\xe8\\x87\\xaa\\xe8\\xbf\\x90\\xe8\\x90\\xa5\\xe8\\xb5\\xa0\\xe5\\x88\\xb8',\n",
       " 54: 'home_muqinjie',\n",
       " 56: 'preuser',\n",
       " 57: 'home_jiangzhecai',\n",
       " 59: '\\xe8\\x92\\xb2\\xe5\\x85\\xac\\xe8\\x8b\\xb1\\xe5\\x8f\\x97\\xe9\\x82\\x80',\n",
       " 60: 'home201603222253',\n",
       " 61: '\\xe5\\x95\\x86\\xe5\\xae\\xb6\\xe6\\x8b\\x92\\xe5\\x8d\\x95\\xe8\\xbf\\x94\\xe5\\x88\\xb8',\n",
       " 63: 'PreUserCouponCode',\n",
       " 64: 'home_dongbeiguan',\n",
       " 65: 'Complaints',\n",
       " 69: 'home_xiangcaiguan',\n",
       " 70: 'NewUserCouponPackageByBD',\n",
       " 71: 'Eventsoperation',\n",
       " 'Complaints': 65,\n",
       " 'Eventsoperation': 71,\n",
       " 'NewUserCouponPackageByBD': 70,\n",
       " 'PreUserCouponCode': 63,\n",
       " 'RecallUserDaily': 50,\n",
       " 'coupon_effective_days': 14,\n",
       " 'covers_fri': 38,\n",
       " 'covers_mon': 36,\n",
       " 'covers_sat': 30,\n",
       " 'covers_sun': 28,\n",
       " 'covers_thu': 31,\n",
       " 'covers_tue': 37,\n",
       " 'covers_wed': 29,\n",
       " 'home201603222253': 60,\n",
       " 'home_dongbeiguan': 64,\n",
       " 'home_jiangzhecai': 57,\n",
       " 'home_muqinjie': 54,\n",
       " 'home_xiangcaiguan': 69,\n",
       " 'max_money': 18,\n",
       " 'money': 5,\n",
       " 'preuser': 56,\n",
       " 'shareuser': 43,\n",
       " 'type1': 34,\n",
       " 'type6': 51,\n",
       " '\\xe5\\x95\\x86\\xe5\\xae\\xb6\\xe6\\x8b\\x92\\xe5\\x8d\\x95\\xe8\\xbf\\x94\\xe5\\x88\\xb8': 61,\n",
       " '\\xe5\\xae\\xb6\\xe5\\x8e\\xa8\\xe5\\x8f\\x91\\xe5\\x88\\xb8': 49,\n",
       " '\\xe6\\xb4\\xbb\\xe5\\x8a\\xa8\\xe8\\xb5\\xa0\\xe5\\x88\\xb8': 39,\n",
       " '\\xe7\\xa0\\x81\\xe5\\x85\\x91\\xe5\\x88\\xb8': 48,\n",
       " '\\xe8\\x87\\xaa\\xe8\\xbf\\x90\\xe8\\x90\\xa5\\xe8\\xb5\\xa0\\xe5\\x88\\xb8': 53,\n",
       " '\\xe8\\x92\\xb2\\xe5\\x85\\xac\\xe8\\x8b\\xb1\\xe5\\x8f\\x97\\xe9\\x82\\x80': 59}"
      ]
     },
     "execution_count": 94,
     "metadata": {},
     "output_type": "execute_result"
    }
   ],
   "source": [
    "drop_feature_order"
   ]
  },
  {
   "cell_type": "code",
   "execution_count": 88,
   "metadata": {
    "collapsed": true
   },
   "outputs": [],
   "source": [
    "check_features = sorted(drop_feature_order, key=drop_feature_order.get)\n",
    "results_list = list()"
   ]
  },
  {
   "cell_type": "code",
   "execution_count": 91,
   "metadata": {},
   "outputs": [
    {
     "data": {
      "text/plain": [
       "{'Complaints': 65,\n",
       " 'Eventsoperation': 71,\n",
       " 'NewUserCouponPackageByBD': 70,\n",
       " 'PreUserCouponCode': 63,\n",
       " 'RecallUserDaily': 50,\n",
       " 'coupon_effective_days': 14,\n",
       " 'covers_fri': 38,\n",
       " 'covers_mon': 36,\n",
       " 'covers_sat': 30,\n",
       " 'covers_sun': 28,\n",
       " 'covers_thu': 31,\n",
       " 'covers_tue': 37,\n",
       " 'covers_wed': 29,\n",
       " 'home201603222253': 60,\n",
       " 'home_dongbeiguan': 64,\n",
       " 'home_jiangzhecai': 57,\n",
       " 'home_muqinjie': 54,\n",
       " 'home_xiangcaiguan': 69,\n",
       " 'max_money': 18,\n",
       " 'money': 5,\n",
       " 'preuser': 56,\n",
       " 'shareuser': 43,\n",
       " 'type1': 34,\n",
       " 'type6': 51,\n",
       " '\\xe5\\x95\\x86\\xe5\\xae\\xb6\\xe6\\x8b\\x92\\xe5\\x8d\\x95\\xe8\\xbf\\x94\\xe5\\x88\\xb8': 61,\n",
       " '\\xe5\\xae\\xb6\\xe5\\x8e\\xa8\\xe5\\x8f\\x91\\xe5\\x88\\xb8': 49,\n",
       " '\\xe6\\xb4\\xbb\\xe5\\x8a\\xa8\\xe8\\xb5\\xa0\\xe5\\x88\\xb8': 39,\n",
       " '\\xe7\\xa0\\x81\\xe5\\x85\\x91\\xe5\\x88\\xb8': 48,\n",
       " '\\xe8\\x87\\xaa\\xe8\\xbf\\x90\\xe8\\x90\\xa5\\xe8\\xb5\\xa0\\xe5\\x88\\xb8': 53,\n",
       " '\\xe8\\x92\\xb2\\xe5\\x85\\xac\\xe8\\x8b\\xb1\\xe5\\x8f\\x97\\xe9\\x82\\x80': 59}"
      ]
     },
     "execution_count": 91,
     "metadata": {},
     "output_type": "execute_result"
    }
   ],
   "source": [
    "drop_feature_order"
   ]
  },
  {
   "cell_type": "code",
   "execution_count": 46,
   "metadata": {},
   "outputs": [
    {
     "data": {
      "text/html": [
       "<div>\n",
       "<style scoped>\n",
       "    .dataframe tbody tr th:only-of-type {\n",
       "        vertical-align: middle;\n",
       "    }\n",
       "\n",
       "    .dataframe tbody tr th {\n",
       "        vertical-align: top;\n",
       "    }\n",
       "\n",
       "    .dataframe thead th {\n",
       "        text-align: right;\n",
       "    }\n",
       "</style>\n",
       "<table border=\"1\" class=\"dataframe\">\n",
       "  <thead>\n",
       "    <tr style=\"text-align: right;\">\n",
       "      <th></th>\n",
       "      <th>feature_set</th>\n",
       "      <th>cmatrix</th>\n",
       "      <th>F0.5</th>\n",
       "      <th>precision</th>\n",
       "      <th>recall</th>\n",
       "      <th>accuracy</th>\n",
       "      <th>roc</th>\n",
       "      <th>avg_precision</th>\n",
       "      <th>sorted_feature_importances</th>\n",
       "    </tr>\n",
       "  </thead>\n",
       "  <tbody>\n",
       "    <tr>\n",
       "      <th>7</th>\n",
       "      <td>y_testset_all_features</td>\n",
       "      <td>[[ 58923 108032]\\n [ 38477 856566]]</td>\n",
       "      <td>0.529355</td>\n",
       "      <td>0.604959</td>\n",
       "      <td>0.352927</td>\n",
       "      <td>0.862044</td>\n",
       "      <td>0.862909</td>\n",
       "      <td>0.315232</td>\n",
       "      <td>[('Recency_fillna_w_start_date', 0.058043838),...</td>\n",
       "    </tr>\n",
       "    <tr>\n",
       "      <th>4</th>\n",
       "      <td>y_testset_group2</td>\n",
       "      <td>[[  8668 158287]\\n [  5750 889293]]</td>\n",
       "      <td>0.192942</td>\n",
       "      <td>0.601193</td>\n",
       "      <td>0.051918</td>\n",
       "      <td>0.845539</td>\n",
       "      <td>0.748035</td>\n",
       "      <td>0.180259</td>\n",
       "      <td>[('Recency_fillna_w_start_date', 0.10207727), ...</td>\n",
       "    </tr>\n",
       "    <tr>\n",
       "      <th>1</th>\n",
       "      <td>y_devset4_group2</td>\n",
       "      <td>[[  3082  91414]\\n [  2247 908278]]</td>\n",
       "      <td>0.133060</td>\n",
       "      <td>0.578345</td>\n",
       "      <td>0.032615</td>\n",
       "      <td>0.906807</td>\n",
       "      <td>0.777286</td>\n",
       "      <td>0.109820</td>\n",
       "      <td>[('Recency_fillna_w_start_date', 0.1067607), (...</td>\n",
       "    </tr>\n",
       "    <tr>\n",
       "      <th>5</th>\n",
       "      <td>y_testset_group3</td>\n",
       "      <td>[[ 54265 112690]\\n [ 39117 855926]]</td>\n",
       "      <td>0.502005</td>\n",
       "      <td>0.581108</td>\n",
       "      <td>0.325028</td>\n",
       "      <td>0.857055</td>\n",
       "      <td>0.829880</td>\n",
       "      <td>0.294987</td>\n",
       "      <td>[('Recency_fillna_w_start_date', 0.14804149), ...</td>\n",
       "    </tr>\n",
       "    <tr>\n",
       "      <th>8</th>\n",
       "      <td>y_devset_all_features</td>\n",
       "      <td>[[ 28794  65702]\\n [ 14794 895731]]</td>\n",
       "      <td>0.535507</td>\n",
       "      <td>0.660595</td>\n",
       "      <td>0.304711</td>\n",
       "      <td>0.919906</td>\n",
       "      <td>0.889638</td>\n",
       "      <td>0.266664</td>\n",
       "      <td>[('coupon_effective_days', 0.14064637), ('user...</td>\n",
       "    </tr>\n",
       "    <tr>\n",
       "      <th>0</th>\n",
       "      <td>y_devset4_group1</td>\n",
       "      <td>[[ 28960  65536]\\n [ 16169 894356]]</td>\n",
       "      <td>0.526522</td>\n",
       "      <td>0.641716</td>\n",
       "      <td>0.306468</td>\n",
       "      <td>0.918703</td>\n",
       "      <td>0.877911</td>\n",
       "      <td>0.261874</td>\n",
       "      <td>[('coupon_effective_days', 0.15271597), ('user...</td>\n",
       "    </tr>\n",
       "    <tr>\n",
       "      <th>2</th>\n",
       "      <td>y_devset4_group3</td>\n",
       "      <td>[[ 26231  68265]\\n [ 15345 895180]]</td>\n",
       "      <td>0.502895</td>\n",
       "      <td>0.630917</td>\n",
       "      <td>0.277588</td>\n",
       "      <td>0.916808</td>\n",
       "      <td>0.869388</td>\n",
       "      <td>0.243059</td>\n",
       "      <td>[('coupon_effective_days', 0.1573529), ('Recen...</td>\n",
       "    </tr>\n",
       "    <tr>\n",
       "      <th>3</th>\n",
       "      <td>y_testset_group1</td>\n",
       "      <td>[[ 57929 109026]\\n [ 38161 856882]]</td>\n",
       "      <td>0.525371</td>\n",
       "      <td>0.602862</td>\n",
       "      <td>0.346974</td>\n",
       "      <td>0.861406</td>\n",
       "      <td>0.841286</td>\n",
       "      <td>0.311838</td>\n",
       "      <td>[('user_latitude_median', 0.07284116), ('user_...</td>\n",
       "    </tr>\n",
       "    <tr>\n",
       "      <th>6</th>\n",
       "      <td>testset_stratified_random_baseline</td>\n",
       "      <td>[[ 14671 152284]\\n [ 78752 816291]]</td>\n",
       "      <td>0.135680</td>\n",
       "      <td>0.157038</td>\n",
       "      <td>0.087874</td>\n",
       "      <td>0.782452</td>\n",
       "      <td>0.499944</td>\n",
       "      <td>0.157193</td>\n",
       "      <td>no feature importance</td>\n",
       "    </tr>\n",
       "  </tbody>\n",
       "</table>\n",
       "</div>"
      ],
      "text/plain": [
       "                          feature_set                              cmatrix  \\\n",
       "7              y_testset_all_features  [[ 58923 108032]\\n [ 38477 856566]]   \n",
       "4                    y_testset_group2  [[  8668 158287]\\n [  5750 889293]]   \n",
       "1                    y_devset4_group2  [[  3082  91414]\\n [  2247 908278]]   \n",
       "5                    y_testset_group3  [[ 54265 112690]\\n [ 39117 855926]]   \n",
       "8               y_devset_all_features  [[ 28794  65702]\\n [ 14794 895731]]   \n",
       "0                    y_devset4_group1  [[ 28960  65536]\\n [ 16169 894356]]   \n",
       "2                    y_devset4_group3  [[ 26231  68265]\\n [ 15345 895180]]   \n",
       "3                    y_testset_group1  [[ 57929 109026]\\n [ 38161 856882]]   \n",
       "6  testset_stratified_random_baseline  [[ 14671 152284]\\n [ 78752 816291]]   \n",
       "\n",
       "       F0.5  precision    recall  accuracy       roc  avg_precision  \\\n",
       "7  0.529355   0.604959  0.352927  0.862044  0.862909       0.315232   \n",
       "4  0.192942   0.601193  0.051918  0.845539  0.748035       0.180259   \n",
       "1  0.133060   0.578345  0.032615  0.906807  0.777286       0.109820   \n",
       "5  0.502005   0.581108  0.325028  0.857055  0.829880       0.294987   \n",
       "8  0.535507   0.660595  0.304711  0.919906  0.889638       0.266664   \n",
       "0  0.526522   0.641716  0.306468  0.918703  0.877911       0.261874   \n",
       "2  0.502895   0.630917  0.277588  0.916808  0.869388       0.243059   \n",
       "3  0.525371   0.602862  0.346974  0.861406  0.841286       0.311838   \n",
       "6  0.135680   0.157038  0.087874  0.782452  0.499944       0.157193   \n",
       "\n",
       "                          sorted_feature_importances  \n",
       "7  [('Recency_fillna_w_start_date', 0.058043838),...  \n",
       "4  [('Recency_fillna_w_start_date', 0.10207727), ...  \n",
       "1  [('Recency_fillna_w_start_date', 0.1067607), (...  \n",
       "5  [('Recency_fillna_w_start_date', 0.14804149), ...  \n",
       "8  [('coupon_effective_days', 0.14064637), ('user...  \n",
       "0  [('coupon_effective_days', 0.15271597), ('user...  \n",
       "2  [('coupon_effective_days', 0.1573529), ('Recen...  \n",
       "3  [('user_latitude_median', 0.07284116), ('user_...  \n",
       "6                              no feature importance  "
      ]
     },
     "execution_count": 46,
     "metadata": {},
     "output_type": "execute_result"
    }
   ],
   "source": [
    "feature_analysis.sort_values(by='sorted_feature_importances', inplace=True)\n",
    "feature_analysis"
   ]
  },
  {
   "cell_type": "code",
   "execution_count": 47,
   "metadata": {
    "collapsed": true
   },
   "outputs": [],
   "source": [
    "feature_list = [i[0] for i in eval(feature_analysis.loc[7, 'sorted_feature_importances'])]"
   ]
  },
  {
   "cell_type": "code",
   "execution_count": 48,
   "metadata": {},
   "outputs": [
    {
     "data": {
      "text/plain": [
       "\"[('Recency_fillna_w_start_date', 0.058043838), ('user_longitude_median', 0.05343065), ('user_latitude_median', 0.052347742), ('worth_money_median', 0.04815689), ('distance_median', 0.04628346), ('money', 0.04627263), ('coupon_usage_rate', 0.04358702), ('InterOrder_fillna_w_start_date', 0.040847268), ('kitchen_entropy', 0.037381962), ('coupon_type1_usage_rate', 0.03708958), ('worth_money_std', 0.03610413), ('distance_std', 0.035356928), ('InterCoup_fillna_w_start_date', 0.03332106), ('order_coupon_usage_rate', 0.031296022), ('coupon_effective_days', 0.02889197), ('order_weekend_perc', 0.026108896), ('BiWeeklyOrderCount', 0.025220914), ('WeeklyOrderCount', 0.022145456), ('max_money', 0.020553581), ('age_0', 0.017835485), ('user_longitude_std', 0.017618904), ('coupon_used_weekend_perc', 0.01577796), ('user_latitude_std', 0.01520402), ('BiWeeklyCouponUsedCount', 0.014792515), ('coupon_type6_usage_rate', 0.013763753), ('WeeklyCouponUsedCount', 0.01310318), ('city1', 0.011782032), ('city2', 0.00994109), ('covers_sun', 0.008717405), ('covers_wed', 0.008641601), ('covers_sat', 0.008457507), ('covers_thu', 0.0074395738), ('city4', 0.0069306074), ('sex_2', 0.006735684), ('type1', 0.0066490513), ('AppVerLast_2.7', 0.0062375464), ('covers_mon', 0.006150914), ('covers_tue', 0.006140085), ('covers_fri', 0.0059235035), ('\\\\xe6\\\\xb4\\\\xbb\\\\xe5\\\\x8a\\\\xa8\\\\xe8\\\\xb5\\\\xa0\\\\xe5\\\\x88\\\\xb8', 0.0058260416), ('age_80', 0.0058260416), ('age_90', 0.005100494), ('sex_1', 0.004721476), ('shareuser', 0.00443992), ('city5', 0.0043424587), ('age_70', 0.0041583646), ('CoupUseLast', 0.0038443212), ('city3', 0.0037143724), ('\\\\xe7\\\\xa0\\\\x81\\\\xe5\\\\x85\\\\x91\\\\xe5\\\\x88\\\\xb8', 0.0029130208), ('\\\\xe5\\\\xae\\\\xb6\\\\xe5\\\\x8e\\\\xa8\\\\xe5\\\\x8f\\\\x91\\\\xe5\\\\x88\\\\xb8', 0.0026856104), ('RecallUserDaily', 0.002631465), ('type6', 0.002479858), ('age_60', 0.001905917), ('\\\\xe8\\\\x87\\\\xaa\\\\xe8\\\\xbf\\\\x90\\\\xe8\\\\x90\\\\xa5\\\\xe8\\\\xb5\\\\xa0\\\\xe5\\\\x88\\\\xb8', 0.0018084553), ('home_muqinjie', 0.0017867972), ('AppVerLast_2.5', 0.0015702157), ('preuser', 0.0013752924), ('home_jiangzhecai', 0.0012128563), ('AppVerLast_2.4', 0.00116954), ('\\\\xe8\\\\x92\\\\xb2\\\\xe5\\\\x85\\\\xac\\\\xe8\\\\x8b\\\\xb1\\\\xe5\\\\x8f\\\\x97\\\\xe9\\\\x82\\\\x80', 0.001028762), ('home201603222253', 0.0009421294), ('\\\\xe5\\\\x95\\\\x86\\\\xe5\\\\xae\\\\xb6\\\\xe6\\\\x8b\\\\x92\\\\xe5\\\\x8d\\\\x95\\\\xe8\\\\xbf\\\\x94\\\\xe5\\\\x88\\\\xb8', 0.00093130034), ('AppVerLast_2.3', 0.0008663259), ('PreUserCouponCode', 0.00076886424), ('home_dongbeiguan', 0.000736377), ('Complaints', 0.00050896645), ('AppVerLast_2.1', 0.0004223339), ('AppVerLast_2.2', 0.0), ('AppVerLast_2.8', 0.0), ('home_xiangcaiguan', 0.0), ('NewUserCouponPackageByBD', 0.0), ('Eventsoperation', 0.0)]\""
      ]
     },
     "execution_count": 48,
     "metadata": {},
     "output_type": "execute_result"
    }
   ],
   "source": [
    "tmp = feature_analysis[feature_analysis['feature_set']=='y_testset_all_features']\n",
    "feature_list = tmp.loc[7, 'sorted_feature_importances']\n",
    "feature_list"
   ]
  },
  {
   "cell_type": "code",
   "execution_count": 33,
   "metadata": {
    "collapsed": true
   },
   "outputs": [],
   "source": [
    "drop_feature_order = dict()\n",
    "for feature in coupon_based_features:\n",
    "    if feature in feature_list:\n",
    "        rank = feature_list.index(feature)\n",
    "        drop_feature_order[feature] = rank"
   ]
  },
  {
   "cell_type": "code",
   "execution_count": 83,
   "metadata": {
    "collapsed": true
   },
   "outputs": [],
   "source": [
    "for feature in coupon_based_features:\n",
    "    if feature in feature_list:\n",
    "        rank = feature_list.index(feature)\n",
    "        drop_feature_order[rank] = feature"
   ]
  },
  {
   "cell_type": "code",
   "execution_count": 84,
   "metadata": {},
   "outputs": [
    {
     "data": {
      "text/plain": [
       "{133: 'money',\n",
       " 344: 'type1',\n",
       " 531: 'coupon_effective_days',\n",
       " 679: 'max_money',\n",
       " 894: 'type6',\n",
       " 1015: 'covers_sun',\n",
       " 1044: 'covers_wed',\n",
       " 1073: 'covers_sat',\n",
       " 1102: 'covers_thu',\n",
       " 1240: 'covers_mon',\n",
       " 1269: 'covers_tue',\n",
       " 1298: 'covers_fri',\n",
       " 1471: 'shareuser',\n",
       " 1729: 'RecallUserDaily',\n",
       " 1892: 'home_muqinjie',\n",
       " 1959: 'preuser',\n",
       " 1986: 'home_jiangzhecai',\n",
       " 2133: 'home201603222253',\n",
       " 2296: 'PreUserCouponCode',\n",
       " 2334: 'home_dongbeiguan',\n",
       " 2369: 'Complaints',\n",
       " 2484: 'home_xiangcaiguan',\n",
       " 2512: 'NewUserCouponPackageByBD',\n",
       " 2547: 'Eventsoperation',\n",
       " 'Complaints': 65,\n",
       " 'Eventsoperation': 71,\n",
       " 'NewUserCouponPackageByBD': 70,\n",
       " 'PreUserCouponCode': 63,\n",
       " 'RecallUserDaily': 50,\n",
       " 'coupon_effective_days': 14,\n",
       " 'covers_fri': 38,\n",
       " 'covers_mon': 36,\n",
       " 'covers_sat': 30,\n",
       " 'covers_sun': 28,\n",
       " 'covers_thu': 31,\n",
       " 'covers_tue': 37,\n",
       " 'covers_wed': 29,\n",
       " 'home201603222253': 60,\n",
       " 'home_dongbeiguan': 64,\n",
       " 'home_jiangzhecai': 57,\n",
       " 'home_muqinjie': 54,\n",
       " 'home_xiangcaiguan': 69,\n",
       " 'max_money': 18,\n",
       " 'money': 5,\n",
       " 'preuser': 56,\n",
       " 'shareuser': 43,\n",
       " 'type1': 34,\n",
       " 'type6': 51,\n",
       " '\\xe5\\x95\\x86\\xe5\\xae\\xb6\\xe6\\x8b\\x92\\xe5\\x8d\\x95\\xe8\\xbf\\x94\\xe5\\x88\\xb8': 61,\n",
       " '\\xe5\\xae\\xb6\\xe5\\x8e\\xa8\\xe5\\x8f\\x91\\xe5\\x88\\xb8': 49,\n",
       " '\\xe6\\xb4\\xbb\\xe5\\x8a\\xa8\\xe8\\xb5\\xa0\\xe5\\x88\\xb8': 39,\n",
       " '\\xe7\\xa0\\x81\\xe5\\x85\\x91\\xe5\\x88\\xb8': 48,\n",
       " '\\xe8\\x87\\xaa\\xe8\\xbf\\x90\\xe8\\x90\\xa5\\xe8\\xb5\\xa0\\xe5\\x88\\xb8': 53,\n",
       " '\\xe8\\x92\\xb2\\xe5\\x85\\xac\\xe8\\x8b\\xb1\\xe5\\x8f\\x97\\xe9\\x82\\x80': 59}"
      ]
     },
     "execution_count": 84,
     "metadata": {},
     "output_type": "execute_result"
    }
   ],
   "source": [
    "drop_feature_order"
   ]
  },
  {
   "cell_type": "code",
   "execution_count": 49,
   "metadata": {
    "collapsed": true
   },
   "outputs": [],
   "source": [
    "check_features = sorted(drop_feature_order, key=drop_feature_order.get)"
   ]
  },
  {
   "cell_type": "code",
   "execution_count": 51,
   "metadata": {},
   "outputs": [
    {
     "data": {
      "text/plain": [
       "30"
      ]
     },
     "execution_count": 51,
     "metadata": {},
     "output_type": "execute_result"
    }
   ],
   "source": [
    "len(check_features)"
   ]
  },
  {
   "cell_type": "code",
   "execution_count": null,
   "metadata": {
    "collapsed": true
   },
   "outputs": [],
   "source": [
    "for i in xrange(0, 10):\n",
    "\n",
    "    feature = check_features[i: 10]\n",
    "    print (\"feature: \", feature)"
   ]
  },
  {
   "cell_type": "code",
   "execution_count": 50,
   "metadata": {},
   "outputs": [
    {
     "data": {
      "text/plain": [
       "['money',\n",
       " 'coupon_effective_days',\n",
       " 'max_money',\n",
       " 'covers_sun',\n",
       " 'covers_wed',\n",
       " 'covers_sat',\n",
       " 'covers_thu',\n",
       " 'type1',\n",
       " 'covers_mon',\n",
       " 'covers_tue',\n",
       " 'covers_fri',\n",
       " '\\xe6\\xb4\\xbb\\xe5\\x8a\\xa8\\xe8\\xb5\\xa0\\xe5\\x88\\xb8',\n",
       " 'shareuser',\n",
       " '\\xe7\\xa0\\x81\\xe5\\x85\\x91\\xe5\\x88\\xb8',\n",
       " '\\xe5\\xae\\xb6\\xe5\\x8e\\xa8\\xe5\\x8f\\x91\\xe5\\x88\\xb8',\n",
       " 'RecallUserDaily',\n",
       " 'type6',\n",
       " '\\xe8\\x87\\xaa\\xe8\\xbf\\x90\\xe8\\x90\\xa5\\xe8\\xb5\\xa0\\xe5\\x88\\xb8',\n",
       " 'home_muqinjie',\n",
       " 'preuser',\n",
       " 'home_jiangzhecai',\n",
       " '\\xe8\\x92\\xb2\\xe5\\x85\\xac\\xe8\\x8b\\xb1\\xe5\\x8f\\x97\\xe9\\x82\\x80',\n",
       " 'home201603222253',\n",
       " '\\xe5\\x95\\x86\\xe5\\xae\\xb6\\xe6\\x8b\\x92\\xe5\\x8d\\x95\\xe8\\xbf\\x94\\xe5\\x88\\xb8',\n",
       " 'PreUserCouponCode',\n",
       " 'home_dongbeiguan',\n",
       " 'Complaints',\n",
       " 'home_xiangcaiguan',\n",
       " 'NewUserCouponPackageByBD',\n",
       " 'Eventsoperation']"
      ]
     },
     "execution_count": 50,
     "metadata": {},
     "output_type": "execute_result"
    }
   ],
   "source": [
    "check_features"
   ]
  },
  {
   "cell_type": "code",
   "execution_count": 101,
   "metadata": {
    "collapsed": true
   },
   "outputs": [],
   "source": [
    "# X_trainset= trainset_robust_scaled[trainset_robust_scaled.columns[5:]]\n",
    "# y_trainset = trainset_robust_scaled['is_used']\n",
    "\n",
    "X_testset= testset_robust_scaled[testset_robust_scaled.columns[5:]]\n",
    "y_testset = testset_robust_scaled['is_used']"
   ]
  },
  {
   "cell_type": "code",
   "execution_count": 163,
   "metadata": {
    "collapsed": true
   },
   "outputs": [],
   "source": [
    "clf = XGBClassifier(random_state=42, n_jobs=-1, n_estimators=500, learning_rate=0.05, max_depth=8)"
   ]
  },
  {
   "cell_type": "code",
   "execution_count": 166,
   "metadata": {},
   "outputs": [
    {
     "name": "stderr",
     "output_type": "stream",
     "text": [
      "/Users/Phoebe/anaconda/envs/py27/lib/python2.7/site-packages/pandas/core/frame.py:3027: SettingWithCopyWarning: \n",
      "A value is trying to be set on a copy of a slice from a DataFrame\n",
      "\n",
      "See the caveats in the documentation: http://pandas.pydata.org/pandas-docs/stable/indexing.html#indexing-view-versus-copy\n",
      "  return super(DataFrame, self).rename(**kwargs)\n"
     ]
    }
   ],
   "source": [
    "#X_trainset.columns\n",
    "\n",
    "X_trainset.rename(columns={'商家拒单返券': 'shangjiafangquan', '家厨发券': 'jiachufaquan', '活动赠券': 'huodongzhengquan' , '码兑券':'matuiquan', '自运营赠券':'zhiyunying', '蒲公英受邀':'pugongying' }, inplace=True)"
   ]
  },
  {
   "cell_type": "code",
   "execution_count": 184,
   "metadata": {
    "collapsed": true
   },
   "outputs": [],
   "source": [
    "X_testset.rename(columns={'商家拒单返券': 'shangjiafangquan', '家厨发券': 'jiachufaquan', '活动赠券': 'huodongzhengquan' , '码兑券':'matuiquan', '自运营赠券':'zhiyunying', '蒲公英受邀':'pugongying' }, inplace=True)"
   ]
  },
  {
   "cell_type": "code",
   "execution_count": 185,
   "metadata": {},
   "outputs": [
    {
     "data": {
      "text/plain": [
       "Index([u'sex_1', u'sex_2', u'age_60', u'age_70', u'age_80', u'age_90',\n",
       "       u'age_0', u'city1', u'city2', u'city3', u'city4', u'city5',\n",
       "       u'AppVerLast_2.1', u'AppVerLast_2.2', u'AppVerLast_2.3',\n",
       "       u'AppVerLast_2.4', u'AppVerLast_2.5', u'AppVerLast_2.7',\n",
       "       u'AppVerLast_2.8', u'covers_mon', u'covers_tue', u'covers_wed',\n",
       "       u'covers_thu', u'covers_fri', u'covers_sat', u'covers_sun', u'type1',\n",
       "       u'type6', u'Complaints', u'Eventsoperation',\n",
       "       u'NewUserCouponPackageByBD', u'PreUserCouponCode', u'RecallUserDaily',\n",
       "       u'home201603222253', u'home_dongbeiguan', u'home_jiangzhecai',\n",
       "       u'home_muqinjie', u'home_xiangcaiguan', u'preuser', u'shareuser',\n",
       "       u'shangjiafangquan', u'jiachufaquan', u'huodongzhengquan', u'matuiquan',\n",
       "       u'zhiyunying', u'pugongying', u'CoupUseLast', u'kitchen_entropy',\n",
       "       u'distance_median', u'distance_std', u'user_longitude_median',\n",
       "       u'user_longitude_std', u'user_latitude_median', u'user_latitude_std',\n",
       "       u'coupon_effective_days', u'money', u'max_money',\n",
       "       u'WeeklyCouponUsedCount', u'BiWeeklyCouponUsedCount',\n",
       "       u'WeeklyOrderCount', u'BiWeeklyOrderCount', u'coupon_usage_rate',\n",
       "       u'order_coupon_usage_rate', u'coupon_type1_usage_rate',\n",
       "       u'coupon_type6_usage_rate', u'coupon_used_weekend_perc',\n",
       "       u'order_weekend_perc', u'worth_money_median', u'worth_money_std',\n",
       "       u'InterOrder_fillna_w_start_date', u'InterCoup_fillna_w_start_date',\n",
       "       u'Recency_fillna_w_start_date'],\n",
       "      dtype='object')"
      ]
     },
     "execution_count": 185,
     "metadata": {},
     "output_type": "execute_result"
    }
   ],
   "source": [
    "X_testset.columns"
   ]
  },
  {
   "cell_type": "code",
   "execution_count": 167,
   "metadata": {},
   "outputs": [
    {
     "data": {
      "text/plain": [
       "XGBClassifier(base_score=0.5, booster='gbtree', colsample_bylevel=1,\n",
       "       colsample_bytree=1, gamma=0, learning_rate=0.05, max_delta_step=0,\n",
       "       max_depth=8, min_child_weight=1, missing=None, n_estimators=500,\n",
       "       n_jobs=-1, nthread=None, objective='binary:logistic',\n",
       "       random_state=42, reg_alpha=0, reg_lambda=1, scale_pos_weight=1,\n",
       "       seed=None, silent=True, subsample=1)"
      ]
     },
     "execution_count": 167,
     "metadata": {},
     "output_type": "execute_result"
    }
   ],
   "source": [
    "clf.fit(X_trainset, y_trainset)"
   ]
  },
  {
   "cell_type": "code",
   "execution_count": null,
   "metadata": {
    "collapsed": true
   },
   "outputs": [],
   "source": [
    "clf.fit(X_trainset, y_trainset)"
   ]
  },
  {
   "cell_type": "code",
   "execution_count": 11,
   "metadata": {},
   "outputs": [
    {
     "name": "stderr",
     "output_type": "stream",
     "text": [
      "/Users/Phoebe/anaconda/envs/py27/lib/python2.7/site-packages/ipykernel/__main__.py:1: SettingWithCopyWarning: \n",
      "A value is trying to be set on a copy of a slice from a DataFrame\n",
      "\n",
      "See the caveats in the documentation: http://pandas.pydata.org/pandas-docs/stable/indexing.html#indexing-view-versus-copy\n",
      "  if __name__ == '__main__':\n"
     ]
    }
   ],
   "source": [
    "X_testset.drop(['Recency', 'InterOrder', 'InterCoup'], axis=1, inplace=True)"
   ]
  },
  {
   "cell_type": "code",
   "execution_count": 55,
   "metadata": {},
   "outputs": [
    {
     "data": {
      "text/plain": [
       "72"
      ]
     },
     "execution_count": 55,
     "metadata": {},
     "output_type": "execute_result"
    }
   ],
   "source": [
    "len(X_testset.columns)"
   ]
  },
  {
   "cell_type": "code",
   "execution_count": 4,
   "metadata": {},
   "outputs": [
    {
     "data": {
      "text/html": [
       "<div>\n",
       "<style scoped>\n",
       "    .dataframe tbody tr th:only-of-type {\n",
       "        vertical-align: middle;\n",
       "    }\n",
       "\n",
       "    .dataframe tbody tr th {\n",
       "        vertical-align: top;\n",
       "    }\n",
       "\n",
       "    .dataframe thead th {\n",
       "        text-align: right;\n",
       "    }\n",
       "</style>\n",
       "<table border=\"1\" class=\"dataframe\">\n",
       "  <thead>\n",
       "    <tr style=\"text-align: right;\">\n",
       "      <th></th>\n",
       "      <th>feature_set</th>\n",
       "      <th>cmatrix</th>\n",
       "      <th>F0.5</th>\n",
       "      <th>precision</th>\n",
       "      <th>recall</th>\n",
       "      <th>accuracy</th>\n",
       "      <th>roc</th>\n",
       "      <th>avg_precision</th>\n",
       "      <th>sorted_feature_importances</th>\n",
       "    </tr>\n",
       "  </thead>\n",
       "  <tbody>\n",
       "    <tr>\n",
       "      <th>0</th>\n",
       "      <td>y_devset4_group1</td>\n",
       "      <td>[[ 28960  65536]\\n [ 16169 894356]]</td>\n",
       "      <td>0.526522</td>\n",
       "      <td>0.641716</td>\n",
       "      <td>0.306468</td>\n",
       "      <td>0.918703</td>\n",
       "      <td>0.877911</td>\n",
       "      <td>0.261874</td>\n",
       "      <td>[('coupon_effective_days', 0.15271597), ('user...</td>\n",
       "    </tr>\n",
       "    <tr>\n",
       "      <th>1</th>\n",
       "      <td>y_devset4_group2</td>\n",
       "      <td>[[  3082  91414]\\n [  2247 908278]]</td>\n",
       "      <td>0.133060</td>\n",
       "      <td>0.578345</td>\n",
       "      <td>0.032615</td>\n",
       "      <td>0.906807</td>\n",
       "      <td>0.777286</td>\n",
       "      <td>0.109820</td>\n",
       "      <td>[('Recency_fillna_w_start_date', 0.1067607), (...</td>\n",
       "    </tr>\n",
       "    <tr>\n",
       "      <th>2</th>\n",
       "      <td>y_devset4_group3</td>\n",
       "      <td>[[ 26231  68265]\\n [ 15345 895180]]</td>\n",
       "      <td>0.502895</td>\n",
       "      <td>0.630917</td>\n",
       "      <td>0.277588</td>\n",
       "      <td>0.916808</td>\n",
       "      <td>0.869388</td>\n",
       "      <td>0.243059</td>\n",
       "      <td>[('coupon_effective_days', 0.1573529), ('Recen...</td>\n",
       "    </tr>\n",
       "    <tr>\n",
       "      <th>3</th>\n",
       "      <td>y_testset_group1</td>\n",
       "      <td>[[ 57929 109026]\\n [ 38161 856882]]</td>\n",
       "      <td>0.525371</td>\n",
       "      <td>0.602862</td>\n",
       "      <td>0.346974</td>\n",
       "      <td>0.861406</td>\n",
       "      <td>0.841286</td>\n",
       "      <td>0.311838</td>\n",
       "      <td>[('user_latitude_median', 0.07284116), ('user_...</td>\n",
       "    </tr>\n",
       "    <tr>\n",
       "      <th>4</th>\n",
       "      <td>y_testset_group2</td>\n",
       "      <td>[[  8668 158287]\\n [  5750 889293]]</td>\n",
       "      <td>0.192942</td>\n",
       "      <td>0.601193</td>\n",
       "      <td>0.051918</td>\n",
       "      <td>0.845539</td>\n",
       "      <td>0.748035</td>\n",
       "      <td>0.180259</td>\n",
       "      <td>[('Recency_fillna_w_start_date', 0.10207727), ...</td>\n",
       "    </tr>\n",
       "    <tr>\n",
       "      <th>5</th>\n",
       "      <td>y_testset_group3</td>\n",
       "      <td>[[ 54265 112690]\\n [ 39117 855926]]</td>\n",
       "      <td>0.502005</td>\n",
       "      <td>0.581108</td>\n",
       "      <td>0.325028</td>\n",
       "      <td>0.857055</td>\n",
       "      <td>0.829880</td>\n",
       "      <td>0.294987</td>\n",
       "      <td>[('Recency_fillna_w_start_date', 0.14804149), ...</td>\n",
       "    </tr>\n",
       "    <tr>\n",
       "      <th>6</th>\n",
       "      <td>testset_stratified_random_baseline</td>\n",
       "      <td>[[ 14671 152284]\\n [ 78752 816291]]</td>\n",
       "      <td>0.135680</td>\n",
       "      <td>0.157038</td>\n",
       "      <td>0.087874</td>\n",
       "      <td>0.782452</td>\n",
       "      <td>0.499944</td>\n",
       "      <td>0.157193</td>\n",
       "      <td>no feature importance</td>\n",
       "    </tr>\n",
       "    <tr>\n",
       "      <th>7</th>\n",
       "      <td>y_testset_all_features</td>\n",
       "      <td>[[ 58923 108032]\\n [ 38477 856566]]</td>\n",
       "      <td>0.529355</td>\n",
       "      <td>0.604959</td>\n",
       "      <td>0.352927</td>\n",
       "      <td>0.862044</td>\n",
       "      <td>0.862909</td>\n",
       "      <td>0.315232</td>\n",
       "      <td>[('Recency_fillna_w_start_date', 0.058043838),...</td>\n",
       "    </tr>\n",
       "    <tr>\n",
       "      <th>8</th>\n",
       "      <td>y_devset_all_features</td>\n",
       "      <td>[[ 28794  65702]\\n [ 14794 895731]]</td>\n",
       "      <td>0.535507</td>\n",
       "      <td>0.660595</td>\n",
       "      <td>0.304711</td>\n",
       "      <td>0.919906</td>\n",
       "      <td>0.889638</td>\n",
       "      <td>0.266664</td>\n",
       "      <td>[('coupon_effective_days', 0.14064637), ('user...</td>\n",
       "    </tr>\n",
       "  </tbody>\n",
       "</table>\n",
       "</div>"
      ],
      "text/plain": [
       "                          feature_set                              cmatrix  \\\n",
       "0                    y_devset4_group1  [[ 28960  65536]\\n [ 16169 894356]]   \n",
       "1                    y_devset4_group2  [[  3082  91414]\\n [  2247 908278]]   \n",
       "2                    y_devset4_group3  [[ 26231  68265]\\n [ 15345 895180]]   \n",
       "3                    y_testset_group1  [[ 57929 109026]\\n [ 38161 856882]]   \n",
       "4                    y_testset_group2  [[  8668 158287]\\n [  5750 889293]]   \n",
       "5                    y_testset_group3  [[ 54265 112690]\\n [ 39117 855926]]   \n",
       "6  testset_stratified_random_baseline  [[ 14671 152284]\\n [ 78752 816291]]   \n",
       "7              y_testset_all_features  [[ 58923 108032]\\n [ 38477 856566]]   \n",
       "8               y_devset_all_features  [[ 28794  65702]\\n [ 14794 895731]]   \n",
       "\n",
       "       F0.5  precision    recall  accuracy       roc  avg_precision  \\\n",
       "0  0.526522   0.641716  0.306468  0.918703  0.877911       0.261874   \n",
       "1  0.133060   0.578345  0.032615  0.906807  0.777286       0.109820   \n",
       "2  0.502895   0.630917  0.277588  0.916808  0.869388       0.243059   \n",
       "3  0.525371   0.602862  0.346974  0.861406  0.841286       0.311838   \n",
       "4  0.192942   0.601193  0.051918  0.845539  0.748035       0.180259   \n",
       "5  0.502005   0.581108  0.325028  0.857055  0.829880       0.294987   \n",
       "6  0.135680   0.157038  0.087874  0.782452  0.499944       0.157193   \n",
       "7  0.529355   0.604959  0.352927  0.862044  0.862909       0.315232   \n",
       "8  0.535507   0.660595  0.304711  0.919906  0.889638       0.266664   \n",
       "\n",
       "                          sorted_feature_importances  \n",
       "0  [('coupon_effective_days', 0.15271597), ('user...  \n",
       "1  [('Recency_fillna_w_start_date', 0.1067607), (...  \n",
       "2  [('coupon_effective_days', 0.1573529), ('Recen...  \n",
       "3  [('user_latitude_median', 0.07284116), ('user_...  \n",
       "4  [('Recency_fillna_w_start_date', 0.10207727), ...  \n",
       "5  [('Recency_fillna_w_start_date', 0.14804149), ...  \n",
       "6                              no feature importance  \n",
       "7  [('Recency_fillna_w_start_date', 0.058043838),...  \n",
       "8  [('coupon_effective_days', 0.14064637), ('user...  "
      ]
     },
     "execution_count": 4,
     "metadata": {},
     "output_type": "execute_result"
    }
   ],
   "source": [
    "feature_analysis"
   ]
  },
  {
   "cell_type": "code",
   "execution_count": 40,
   "metadata": {},
   "outputs": [
    {
     "data": {
      "text/plain": [
       "\"[('user_latitude_median', 0.07284116), ('user_longitude_median', 0.07110659), ('distance_median', 0.07060335), ('coupon_usage_rate', 0.06735907), ('kitchen_entropy', 0.06639542), ('order_coupon_usage_rate', 0.061288077), ('coupon_type1_usage_rate', 0.06051716), ('distance_std', 0.059028856), ('money', 0.050805718), ('order_weekend_perc', 0.04181166), ('coupon_effective_days', 0.03523743), ('coupon_type6_usage_rate', 0.031072328), ('user_longitude_std', 0.026200546), ('coupon_used_weekend_perc', 0.024476685), ('user_latitude_std', 0.023373842), ('max_money', 0.022838483), ('age_0', 0.020279458), ('AppVerLast_2.7', 0.013833717), ('city1', 0.013673109), ('city2', 0.011317522), ('covers_sat', 0.00898335), ('covers_thu', 0.008844157), ('sex_2', 0.008833449), ('covers_sun', 0.00871567), ('covers_wed', 0.007859093), ('city4', 0.007644949), ('age_90', 0.00752717), ('covers_mon', 0.0073237326), ('age_80', 0.007045345), ('covers_fri', 0.007045345), ('type1', 0.006991809), ('sex_1', 0.006884737), ('covers_tue', 0.006831201), ('age_70', 0.0057497723), ('\\\\xe6\\\\xb4\\\\xbb\\\\xe5\\\\x8a\\\\xa8\\\\xe8\\\\xb5\\\\xa0\\\\xe5\\\\x88\\\\xb8', 0.005471385), ('shareuser', 0.0052786553), ('city5', 0.0049895607), ('city3', 0.0040901545), ('RecallUserDaily', 0.0031800417), ('\\\\xe7\\\\xa0\\\\x81\\\\xe5\\\\x85\\\\x91\\\\xe5\\\\x88\\\\xb8', 0.0031586273), ('age_60', 0.0023341721), ('\\\\xe5\\\\xae\\\\xb6\\\\xe5\\\\x8e\\\\xa8\\\\xe5\\\\x8f\\\\x91\\\\xe5\\\\x88\\\\xb8', 0.0023020504), ('AppVerLast_2.5', 0.0020879062), ('AppVerLast_2.4', 0.0020129557), ('type6', 0.0019487125), ('\\\\xe8\\\\x87\\\\xaa\\\\xe8\\\\xbf\\\\x90\\\\xe8\\\\x90\\\\xa5\\\\xe8\\\\xb5\\\\xa0\\\\xe5\\\\x88\\\\xb8', 0.0016274961), ('home_muqinjie', 0.0015311312), ('home_jiangzhecai', 0.0014240592), ('preuser', 0.0013598158), ('home201603222253', 0.0013384015), ('home_dongbeiguan', 0.0012099149), ('\\\\xe8\\\\x92\\\\xb2\\\\xe5\\\\x85\\\\xac\\\\xe8\\\\x8b\\\\xb1\\\\xe5\\\\x8f\\\\x97\\\\xe9\\\\x82\\\\x80', 0.0009422346), ('\\\\xe5\\\\x95\\\\x86\\\\xe5\\\\xae\\\\xb6\\\\xe6\\\\x8b\\\\x92\\\\xe5\\\\x8d\\\\x95\\\\xe8\\\\xbf\\\\x94\\\\xe5\\\\x88\\\\xb8', 0.0008565769), ('PreUserCouponCode', 0.00081374805), ('AppVerLast_2.3', 0.0007387976), ('AppVerLast_2.1', 0.0005139461), ('Complaints', 0.00042828845), ('AppVerLast_2.2', 2.1414422e-05), ('AppVerLast_2.8', 0.0), ('NewUserCouponPackageByBD', 0.0), ('home_xiangcaiguan', 0.0), ('Eventsoperation', 0.0)]\""
      ]
     },
     "execution_count": 40,
     "metadata": {},
     "output_type": "execute_result"
    }
   ],
   "source": [
    "feature_analysis.loc[3, 'sorted_feature_importances']"
   ]
  },
  {
   "cell_type": "code",
   "execution_count": 11,
   "metadata": {},
   "outputs": [
    {
     "data": {
      "text/plain": [
       "\"[('coupon_effective_days', 0.1573529), ('Recency_fillna_w_start_date', 0.1374858), ('InterOrder_fillna_w_start_date', 0.110095374), ('worth_money_median', 0.098268084), ('worth_money_std', 0.08650966), ('InterCoup_fillna_w_start_date', 0.07371828), ('money', 0.06869125), ('BiWeeklyOrderCount', 0.04835933), ('WeeklyOrderCount', 0.035912268), ('BiWeeklyCouponUsedCount', 0.026598493), ('WeeklyCouponUsedCount', 0.023551285), ('CoupUseLast', 0.018575905), ('max_money', 0.0158558), ('covers_thu', 0.013290638), ('covers_sun', 0.0112247355), ('covers_fri', 0.010209001), ('covers_tue', 0.008229177), ('covers_wed', 0.008125883), ('type1', 0.0076438384), ('covers_sat', 0.0070412834), ('covers_mon', 0.0057673105), ('\\\\xe5\\\\xae\\\\xb6\\\\xe5\\\\x8e\\\\xa8\\\\xe5\\\\x8f\\\\x91\\\\xe5\\\\x88\\\\xb8', 0.0044589057), ('\\\\xe6\\\\xb4\\\\xbb\\\\xe5\\\\x8a\\\\xa8\\\\xe8\\\\xb5\\\\xa0\\\\xe5\\\\x88\\\\xb8', 0.0042867474), ('\\\\xe8\\\\x87\\\\xaa\\\\xe8\\\\xbf\\\\x90\\\\xe8\\\\x90\\\\xa5\\\\xe8\\\\xb5\\\\xa0\\\\xe5\\\\x88\\\\xb8', 0.003598113), ('shareuser', 0.002926695), ('\\\\xe7\\\\xa0\\\\x81\\\\xe5\\\\x85\\\\x91\\\\xe5\\\\x88\\\\xb8', 0.002909479), ('home_muqinjie', 0.0018076645), ('home_jiangzhecai', 0.0017043694), ('type6', 0.0012395413), ('home201603222253', 0.001050167), ('RecallUserDaily', 0.0009468719), ('preuser', 0.0008780085), ('\\\\xe5\\\\x95\\\\x86\\\\xe5\\\\xae\\\\xb6\\\\xe6\\\\x8b\\\\x92\\\\xe5\\\\x8d\\\\x95\\\\xe8\\\\xbf\\\\x94\\\\xe5\\\\x88\\\\xb8', 0.00065420236), ('\\\\xe8\\\\x92\\\\xb2\\\\xe5\\\\x85\\\\xac\\\\xe8\\\\x8b\\\\xb1\\\\xe5\\\\x8f\\\\x97\\\\xe9\\\\x82\\\\x80', 0.0006369865), ('Complaints', 0.0003959646), ('home_xiangcaiguan', 0.0), ('NewUserCouponPackageByBD', 0.0), ('home_dongbeiguan', 0.0), ('PreUserCouponCode', 0.0), ('Eventsoperation', 0.0)]\""
      ]
     },
     "execution_count": 11,
     "metadata": {},
     "output_type": "execute_result"
    }
   ],
   "source": [
    "feature_analysis.loc[2, 'sorted_feature_importances']"
   ]
  },
  {
   "cell_type": "code",
   "execution_count": 22,
   "metadata": {},
   "outputs": [
    {
     "data": {
      "text/plain": [
       "\"[('user_latitude_median', 0.07284116), ('user_longitude_median', 0.07110659), ('distance_median', 0.07060335), ('coupon_usage_rate', 0.06735907), ('kitchen_entropy', 0.06639542), ('order_coupon_usage_rate', 0.061288077), ('coupon_type1_usage_rate', 0.06051716), ('distance_std', 0.059028856), ('money', 0.050805718), ('order_weekend_perc', 0.04181166), ('coupon_effective_days', 0.03523743), ('coupon_type6_usage_rate', 0.031072328), ('user_longitude_std', 0.026200546), ('coupon_used_weekend_perc', 0.024476685), ('user_latitude_std', 0.023373842), ('max_money', 0.022838483), ('age_0', 0.020279458), ('AppVerLast_2.7', 0.013833717), ('city1', 0.013673109), ('city2', 0.011317522), ('covers_sat', 0.00898335), ('covers_thu', 0.008844157), ('sex_2', 0.008833449), ('covers_sun', 0.00871567), ('covers_wed', 0.007859093), ('city4', 0.007644949), ('age_90', 0.00752717), ('covers_mon', 0.0073237326), ('age_80', 0.007045345), ('covers_fri', 0.007045345), ('type1', 0.006991809), ('sex_1', 0.006884737), ('covers_tue', 0.006831201), ('age_70', 0.0057497723), ('\\\\xe6\\\\xb4\\\\xbb\\\\xe5\\\\x8a\\\\xa8\\\\xe8\\\\xb5\\\\xa0\\\\xe5\\\\x88\\\\xb8', 0.005471385), ('shareuser', 0.0052786553), ('city5', 0.0049895607), ('city3', 0.0040901545), ('RecallUserDaily', 0.0031800417), ('\\\\xe7\\\\xa0\\\\x81\\\\xe5\\\\x85\\\\x91\\\\xe5\\\\x88\\\\xb8', 0.0031586273), ('age_60', 0.0023341721), ('\\\\xe5\\\\xae\\\\xb6\\\\xe5\\\\x8e\\\\xa8\\\\xe5\\\\x8f\\\\x91\\\\xe5\\\\x88\\\\xb8', 0.0023020504), ('AppVerLast_2.5', 0.0020879062), ('AppVerLast_2.4', 0.0020129557), ('type6', 0.0019487125), ('\\\\xe8\\\\x87\\\\xaa\\\\xe8\\\\xbf\\\\x90\\\\xe8\\\\x90\\\\xa5\\\\xe8\\\\xb5\\\\xa0\\\\xe5\\\\x88\\\\xb8', 0.0016274961), ('home_muqinjie', 0.0015311312), ('home_jiangzhecai', 0.0014240592), ('preuser', 0.0013598158), ('home201603222253', 0.0013384015), ('home_dongbeiguan', 0.0012099149), ('\\\\xe8\\\\x92\\\\xb2\\\\xe5\\\\x85\\\\xac\\\\xe8\\\\x8b\\\\xb1\\\\xe5\\\\x8f\\\\x97\\\\xe9\\\\x82\\\\x80', 0.0009422346), ('\\\\xe5\\\\x95\\\\x86\\\\xe5\\\\xae\\\\xb6\\\\xe6\\\\x8b\\\\x92\\\\xe5\\\\x8d\\\\x95\\\\xe8\\\\xbf\\\\x94\\\\xe5\\\\x88\\\\xb8', 0.0008565769), ('PreUserCouponCode', 0.00081374805), ('AppVerLast_2.3', 0.0007387976), ('AppVerLast_2.1', 0.0005139461), ('Complaints', 0.00042828845), ('AppVerLast_2.2', 2.1414422e-05), ('AppVerLast_2.8', 0.0), ('NewUserCouponPackageByBD', 0.0), ('home_xiangcaiguan', 0.0), ('Eventsoperation', 0.0)]\""
      ]
     },
     "execution_count": 22,
     "metadata": {},
     "output_type": "execute_result"
    }
   ],
   "source": [
    "feature_analysis.loc[3, 'sorted_feature_importances']"
   ]
  },
  {
   "cell_type": "code",
   "execution_count": 23,
   "metadata": {},
   "outputs": [
    {
     "data": {
      "text/plain": [
       "\"[('Recency_fillna_w_start_date', 0.14804149), ('worth_money_median', 0.115238994), ('worth_money_std', 0.1050506), ('InterOrder_fillna_w_start_date', 0.10179215), ('InterCoup_fillna_w_start_date', 0.0842034), ('money', 0.061520457), ('BiWeeklyOrderCount', 0.058824204), ('WeeklyOrderCount', 0.050987862), ('coupon_effective_days', 0.042864684), ('BiWeeklyCouponUsedCount', 0.04043232), ('WeeklyCouponUsedCount', 0.032240298), ('max_money', 0.022522315), ('CoupUseLast', 0.019826064), ('covers_thu', 0.01192088), ('covers_wed', 0.011656991), ('covers_sun', 0.010980059), ('covers_sat', 0.010785012), ('covers_fri', 0.009132839), ('covers_mon', 0.008708322), ('covers_tue', 0.008639483), ('type1', 0.007641295), ('\\\\xe6\\\\xb4\\\\xbb\\\\xe5\\\\x8a\\\\xa8\\\\xe8\\\\xb5\\\\xa0\\\\xe5\\\\x88\\\\xb8', 0.005782602), ('shareuser', 0.005656394), ('\\\\xe7\\\\xa0\\\\x81\\\\xe5\\\\x85\\\\x91\\\\xe5\\\\x88\\\\xb8', 0.0041304296), ('\\\\xe5\\\\xae\\\\xb6\\\\xe5\\\\x8e\\\\xa8\\\\xe5\\\\x8f\\\\x91\\\\xe5\\\\x88\\\\xb8', 0.003809174), ('\\\\xe8\\\\x87\\\\xaa\\\\xe8\\\\xbf\\\\x90\\\\xe8\\\\x90\\\\xa5\\\\xe8\\\\xb5\\\\xa0\\\\xe5\\\\x88\\\\xb8', 0.0024208908), ('type6', 0.0023520503), ('RecallUserDaily', 0.0022717363), ('home_muqinjie', 0.001652172), ('home_dongbeiguan', 0.001652172), ('home_jiangzhecai', 0.0014571239), ('\\\\xe5\\\\x95\\\\x86\\\\xe5\\\\xae\\\\xb6\\\\xe6\\\\x8b\\\\x92\\\\xe5\\\\x8d\\\\x95\\\\xe8\\\\xbf\\\\x94\\\\xe5\\\\x88\\\\xb8', 0.001239129), ('home201603222253', 0.001158815), ('PreUserCouponCode', 0.0011473416), ('preuser', 0.0008031391), ('Complaints', 0.0007342986), ('\\\\xe8\\\\x92\\\\xb2\\\\xe5\\\\x85\\\\xac\\\\xe8\\\\x8b\\\\xb1\\\\xe5\\\\x8f\\\\x97\\\\xe9\\\\x82\\\\x80', 0.00072282524), ('home_xiangcaiguan', 0.0), ('NewUserCouponPackageByBD', 0.0), ('Eventsoperation', 0.0)]\""
      ]
     },
     "execution_count": 23,
     "metadata": {},
     "output_type": "execute_result"
    }
   ],
   "source": [
    "feature_analysis.loc[5, 'sorted_feature_importances']"
   ]
  },
  {
   "cell_type": "code",
   "execution_count": null,
   "metadata": {
    "collapsed": true
   },
   "outputs": [],
   "source": [
    "# Coupon_based features:\n",
    "# Coupon Effective Days, Money, Max_Money, 'type1', 0.007641295), ('\\\\xe6\\\\xb4\\\\xbb\\\\xe5\\\\x8a\\\\xa8\\\\xe8\\\\xb5\\\\xa0\\\\xe5\\\\x88\\\\xb8', 0.005782602"
   ]
  },
  {
   "cell_type": "code",
   "execution_count": 26,
   "metadata": {
    "collapsed": true
   },
   "outputs": [],
   "source": [
    "clf_rf = RandomForestClassifier(n_jobs=-1, random_state=0, max_features=8, n_estimators=300, max_depth=8, class_weight={1: 3})"
   ]
  },
  {
   "cell_type": "code",
   "execution_count": 35,
   "metadata": {},
   "outputs": [
    {
     "data": {
      "text/plain": [
       "Index([u'sex_1', u'sex_2', u'age_60', u'age_70', u'age_80', u'age_90',\n",
       "       u'age_0', u'city1', u'city2', u'city3', u'city4', u'city5',\n",
       "       u'AppVerLast_2.1', u'AppVerLast_2.2', u'AppVerLast_2.3',\n",
       "       u'AppVerLast_2.4', u'AppVerLast_2.5', u'AppVerLast_2.7',\n",
       "       u'AppVerLast_2.8', u'covers_mon', u'covers_tue', u'covers_wed',\n",
       "       u'covers_thu', u'covers_fri', u'covers_sat', u'covers_sun', u'type1',\n",
       "       u'type6', u'Complaints', u'Eventsoperation',\n",
       "       u'NewUserCouponPackageByBD', u'PreUserCouponCode', u'RecallUserDaily',\n",
       "       u'home201603222253', u'home_dongbeiguan', u'home_jiangzhecai',\n",
       "       u'home_muqinjie', u'home_xiangcaiguan', u'preuser', u'shareuser',\n",
       "       u'商家拒单返券', u'家厨发券', u'活动赠券', u'码兑券', u'自运营赠券', u'蒲公英受邀', u'CoupUseLast',\n",
       "       u'kitchen_entropy', u'distance_median', u'distance_std',\n",
       "       u'user_longitude_median', u'user_longitude_std',\n",
       "       u'user_latitude_median', u'user_latitude_std', u'money', u'max_money',\n",
       "       u'WeeklyCouponUsedCount', u'BiWeeklyCouponUsedCount',\n",
       "       u'WeeklyOrderCount', u'BiWeeklyOrderCount', u'coupon_usage_rate',\n",
       "       u'order_coupon_usage_rate', u'coupon_type1_usage_rate',\n",
       "       u'coupon_type6_usage_rate', u'coupon_used_weekend_perc',\n",
       "       u'order_weekend_perc', u'worth_money_median', u'worth_money_std',\n",
       "       u'InterOrder_fillna_w_start_date', u'InterCoup_fillna_w_start_date',\n",
       "       u'Recency_fillna_w_start_date'],\n",
       "      dtype='object')"
      ]
     },
     "execution_count": 35,
     "metadata": {},
     "output_type": "execute_result"
    }
   ],
   "source": [
    "X_trainset.columns"
   ]
  },
  {
   "cell_type": "code",
   "execution_count": 41,
   "metadata": {},
   "outputs": [
    {
     "data": {
      "text/plain": [
       "Index([u'sex_1', u'sex_2', u'age_60', u'age_70', u'age_80', u'age_90',\n",
       "       u'age_0', u'city1', u'city2', u'city3', u'city4', u'city5',\n",
       "       u'AppVerLast_2.1', u'AppVerLast_2.2', u'AppVerLast_2.3',\n",
       "       u'AppVerLast_2.4', u'AppVerLast_2.5', u'AppVerLast_2.7',\n",
       "       u'AppVerLast_2.8', u'covers_mon', u'covers_tue', u'covers_wed',\n",
       "       u'covers_thu', u'covers_fri', u'covers_sat', u'covers_sun', u'type1',\n",
       "       u'type6', u'Complaints', u'Eventsoperation',\n",
       "       u'NewUserCouponPackageByBD', u'PreUserCouponCode', u'RecallUserDaily',\n",
       "       u'home201603222253', u'home_dongbeiguan', u'home_jiangzhecai',\n",
       "       u'home_muqinjie', u'home_xiangcaiguan', u'preuser', u'shareuser',\n",
       "       u'商家拒单返券', u'家厨发券', u'活动赠券', u'码兑券', u'自运营赠券', u'蒲公英受邀', u'CoupUseLast',\n",
       "       u'kitchen_entropy', u'distance_median', u'distance_std',\n",
       "       u'user_longitude_median', u'user_longitude_std',\n",
       "       u'user_latitude_median', u'user_latitude_std', u'coupon_effective_days',\n",
       "       u'money', u'max_money', u'WeeklyCouponUsedCount',\n",
       "       u'BiWeeklyCouponUsedCount', u'WeeklyOrderCount', u'BiWeeklyOrderCount',\n",
       "       u'coupon_usage_rate', u'order_coupon_usage_rate',\n",
       "       u'coupon_type1_usage_rate', u'coupon_type6_usage_rate',\n",
       "       u'coupon_used_weekend_perc', u'order_weekend_perc',\n",
       "       u'worth_money_median', u'worth_money_std', u'InterCoup', u'InterOrder',\n",
       "       u'Recency', u'InterOrder_fillna_w_start_date',\n",
       "       u'InterCoup_fillna_w_start_date', u'Recency_fillna_w_start_date'],\n",
       "      dtype='object')"
      ]
     },
     "execution_count": 41,
     "metadata": {},
     "output_type": "execute_result"
    }
   ],
   "source": [
    "X_testset.columns"
   ]
  },
  {
   "cell_type": "code",
   "execution_count": 61,
   "metadata": {},
   "outputs": [
    {
     "name": "stdout",
     "output_type": "stream",
     "text": [
      "('feature: ', ['coupon_effective_days', 'money'])\n",
      "done\n",
      "Recall: 0.554951933156\n",
      "Roc: 0.838629880859\n",
      "('feature: ', ['coupon_effective_days', 'money', 'max_money'])\n",
      "done\n",
      "Recall: 0.621448893414\n",
      "Roc: 0.82937546202\n",
      "('feature: ', ['coupon_effective_days', 'money', 'max_money', 'type1'])\n",
      "done\n",
      "Recall: 0.625300230601\n",
      "Roc: 0.832484207415\n",
      "('feature: ', ['coupon_effective_days', 'money', 'max_money', 'type1', 'type6'])\n",
      "done\n",
      "Recall: 0.552681860382\n",
      "Roc: 0.826392864209\n",
      "('feature: ', ['coupon_effective_days', 'money', 'max_money', 'type1', 'type6', 'shareuser'])\n",
      "done\n",
      "Recall: 0.553951663622\n",
      "Roc: 0.826065519451\n",
      "('feature: ', ['coupon_effective_days', 'money', 'max_money', 'type1', 'type6', 'shareuser', '\\xe6\\xb4\\xbb\\xe5\\x8a\\xa8\\xe8\\xb5\\xa0\\xe5\\x88\\xb8'])\n",
      "done\n",
      "Recall: 0.362828307029\n",
      "Roc: 0.774559716425\n"
     ]
    }
   ],
   "source": [
    "check_feature_list = ['coupon_effective_days', 'money', 'max_money', 'type1', 'type6', 'shareuser', '活动赠券']\n",
    "results_list = list()\n",
    "\n",
    "for i in xrange(1, len(check_feature_list)):\n",
    "    \n",
    "    feature = check_feature_list[:i+1]\n",
    "    print (\"feature: \", feature)\n",
    "\n",
    "    X_train = X_trainset.drop(feature, axis=1)\n",
    "    print (\"done\")\n",
    "    clf_rf.fit(X_train, y_trainset)\n",
    "\n",
    "    X_test = X_testset.drop(feature, axis=1)\n",
    "    y_pred_class = clf_rf.predict(X_test)\n",
    "\n",
    "    if clf_rf.classes_[1] == 1:\n",
    "        y_pred_prob = clf_rf.predict_proba(X_test)[:, 1]\n",
    "    else:\n",
    "        y_pred_prob = clf_rf.predict_proba(X_test)[:, 0]\n",
    "\n",
    "    recall = recall_score(y_testset, y_pred_class, labels=[1,0])\n",
    "    print(\"Recall: {}\".format(recall))\n",
    "\n",
    "    roc = roc_auc_score(y_testset, y_pred_prob)\n",
    "    print(\"Roc: {}\".format(roc))\n",
    "    \n",
    "    results = [feature, recall, roc]\n",
    "    results_list.append(results)\n",
    "    \n",
    "final_df = pd.DataFrame(results_list, columns = [\"params\", \"recall\", \"roc\"])\n",
    "final_df.to_csv(\"results_list.csv\", index=False, header=True)"
   ]
  },
  {
   "cell_type": "code",
   "execution_count": 45,
   "metadata": {},
   "outputs": [
    {
     "data": {
      "text/plain": [
       "71"
      ]
     },
     "execution_count": 45,
     "metadata": {},
     "output_type": "execute_result"
    }
   ],
   "source": [
    "# Dropping Coupon Effective Days. \n",
    "\n",
    "Recall: 0.564906711389\n",
    "Roc: 0.844271266785"
   ]
  },
  {
   "cell_type": "code",
   "execution_count": 75,
   "metadata": {
    "collapsed": true
   },
   "outputs": [],
   "source": [
    "coupon_based_features = ['coupon_effective_days', 'money', 'max_money', 'type1', 'type6', '活动赠券', 'shareuser',\n",
    "               '商家拒单返券', '家厨发券', '码兑券', '自运营赠券', '蒲公英受邀', \n",
    "               'covers_mon', 'covers_tue', 'covers_wed', 'covers_thu', 'covers_fri', 'covers_sat', 'covers_sun',\n",
    "               'Complaints', 'PreUserCouponCode', 'RecallUserDaily', 'home201603222253', \n",
    "               'home_dongbeiguan', 'home_jiangzhecai', 'home_muqinjie', 'preuser']"
   ]
  },
  {
   "cell_type": "code",
   "execution_count": 64,
   "metadata": {},
   "outputs": [
    {
     "name": "stdout",
     "output_type": "stream",
     "text": [
      "('feature: ', ['coupon_effective_days', 'money', 'max_money', 'type1', 'type6', '\\xe6\\xb4\\xbb\\xe5\\x8a\\xa8\\xe8\\xb5\\xa0\\xe5\\x88\\xb8', 'shareuser', '\\xe5\\x95\\x86\\xe5\\xae\\xb6\\xe6\\x8b\\x92\\xe5\\x8d\\x95\\xe8\\xbf\\x94\\xe5\\x88\\xb8'])\n",
      "done\n",
      "Recall: 0.362079602288\n",
      "Roc: 0.773839751655\n",
      "('feature: ', ['coupon_effective_days', 'money', 'max_money', 'type1', 'type6', '\\xe6\\xb4\\xbb\\xe5\\x8a\\xa8\\xe8\\xb5\\xa0\\xe5\\x88\\xb8', 'shareuser', '\\xe5\\x95\\x86\\xe5\\xae\\xb6\\xe6\\x8b\\x92\\xe5\\x8d\\x95\\xe8\\xbf\\x94\\xe5\\x88\\xb8', '\\xe5\\xae\\xb6\\xe5\\x8e\\xa8\\xe5\\x8f\\x91\\xe5\\x88\\xb8'])\n",
      "done\n",
      "Recall: 0.365224162199\n",
      "Roc: 0.775100432981\n",
      "('feature: ', ['coupon_effective_days', 'money', 'max_money', 'type1', 'type6', '\\xe6\\xb4\\xbb\\xe5\\x8a\\xa8\\xe8\\xb5\\xa0\\xe5\\x88\\xb8', 'shareuser', '\\xe5\\x95\\x86\\xe5\\xae\\xb6\\xe6\\x8b\\x92\\xe5\\x8d\\x95\\xe8\\xbf\\x94\\xe5\\x88\\xb8', '\\xe5\\xae\\xb6\\xe5\\x8e\\xa8\\xe5\\x8f\\x91\\xe5\\x88\\xb8', '\\xe7\\xa0\\x81\\xe5\\x85\\x91\\xe5\\x88\\xb8'])\n",
      "done\n",
      "Recall: 0.362313198167\n",
      "Roc: 0.77613471388\n",
      "('feature: ', ['coupon_effective_days', 'money', 'max_money', 'type1', 'type6', '\\xe6\\xb4\\xbb\\xe5\\x8a\\xa8\\xe8\\xb5\\xa0\\xe5\\x88\\xb8', 'shareuser', '\\xe5\\x95\\x86\\xe5\\xae\\xb6\\xe6\\x8b\\x92\\xe5\\x8d\\x95\\xe8\\xbf\\x94\\xe5\\x88\\xb8', '\\xe5\\xae\\xb6\\xe5\\x8e\\xa8\\xe5\\x8f\\x91\\xe5\\x88\\xb8', '\\xe7\\xa0\\x81\\xe5\\x85\\x91\\xe5\\x88\\xb8', '\\xe8\\x87\\xaa\\xe8\\xbf\\x90\\xe8\\x90\\xa5\\xe8\\xb5\\xa0\\xe5\\x88\\xb8'])\n",
      "done\n",
      "Recall: 0.362888203408\n",
      "Roc: 0.774568676249\n",
      "('feature: ', ['coupon_effective_days', 'money', 'max_money', 'type1', 'type6', '\\xe6\\xb4\\xbb\\xe5\\x8a\\xa8\\xe8\\xb5\\xa0\\xe5\\x88\\xb8', 'shareuser', '\\xe5\\x95\\x86\\xe5\\xae\\xb6\\xe6\\x8b\\x92\\xe5\\x8d\\x95\\xe8\\xbf\\x94\\xe5\\x88\\xb8', '\\xe5\\xae\\xb6\\xe5\\x8e\\xa8\\xe5\\x8f\\x91\\xe5\\x88\\xb8', '\\xe7\\xa0\\x81\\xe5\\x85\\x91\\xe5\\x88\\xb8', '\\xe8\\x87\\xaa\\xe8\\xbf\\x90\\xe8\\x90\\xa5\\xe8\\xb5\\xa0\\xe5\\x88\\xb8', '\\xe8\\x92\\xb2\\xe5\\x85\\xac\\xe8\\x8b\\xb1\\xe5\\x8f\\x97\\xe9\\x82\\x80'])\n",
      "done\n",
      "Recall: 0.367242670181\n",
      "Roc: 0.775009828187\n",
      "('feature: ', ['coupon_effective_days', 'money', 'max_money', 'type1', 'type6', '\\xe6\\xb4\\xbb\\xe5\\x8a\\xa8\\xe8\\xb5\\xa0\\xe5\\x88\\xb8', 'shareuser', '\\xe5\\x95\\x86\\xe5\\xae\\xb6\\xe6\\x8b\\x92\\xe5\\x8d\\x95\\xe8\\xbf\\x94\\xe5\\x88\\xb8', '\\xe5\\xae\\xb6\\xe5\\x8e\\xa8\\xe5\\x8f\\x91\\xe5\\x88\\xb8', '\\xe7\\xa0\\x81\\xe5\\x85\\x91\\xe5\\x88\\xb8', '\\xe8\\x87\\xaa\\xe8\\xbf\\x90\\xe8\\x90\\xa5\\xe8\\xb5\\xa0\\xe5\\x88\\xb8', '\\xe8\\x92\\xb2\\xe5\\x85\\xac\\xe8\\x8b\\xb1\\xe5\\x8f\\x97\\xe9\\x82\\x80', 'covers_mon'])\n",
      "done\n",
      "Recall: 0.353885777605\n",
      "Roc: 0.779165729283\n",
      "('feature: ', ['coupon_effective_days', 'money', 'max_money', 'type1', 'type6', '\\xe6\\xb4\\xbb\\xe5\\x8a\\xa8\\xe8\\xb5\\xa0\\xe5\\x88\\xb8', 'shareuser', '\\xe5\\x95\\x86\\xe5\\xae\\xb6\\xe6\\x8b\\x92\\xe5\\x8d\\x95\\xe8\\xbf\\x94\\xe5\\x88\\xb8', '\\xe5\\xae\\xb6\\xe5\\x8e\\xa8\\xe5\\x8f\\x91\\xe5\\x88\\xb8', '\\xe7\\xa0\\x81\\xe5\\x85\\x91\\xe5\\x88\\xb8', '\\xe8\\x87\\xaa\\xe8\\xbf\\x90\\xe8\\x90\\xa5\\xe8\\xb5\\xa0\\xe5\\x88\\xb8', '\\xe8\\x92\\xb2\\xe5\\x85\\xac\\xe8\\x8b\\xb1\\xe5\\x8f\\x97\\xe9\\x82\\x80', 'covers_mon', 'covers_tue'])\n",
      "done\n",
      "Recall: 0.303974124764\n",
      "Roc: 0.7423606236\n",
      "('feature: ', ['coupon_effective_days', 'money', 'max_money', 'type1', 'type6', '\\xe6\\xb4\\xbb\\xe5\\x8a\\xa8\\xe8\\xb5\\xa0\\xe5\\x88\\xb8', 'shareuser', '\\xe5\\x95\\x86\\xe5\\xae\\xb6\\xe6\\x8b\\x92\\xe5\\x8d\\x95\\xe8\\xbf\\x94\\xe5\\x88\\xb8', '\\xe5\\xae\\xb6\\xe5\\x8e\\xa8\\xe5\\x8f\\x91\\xe5\\x88\\xb8', '\\xe7\\xa0\\x81\\xe5\\x85\\x91\\xe5\\x88\\xb8', '\\xe8\\x87\\xaa\\xe8\\xbf\\x90\\xe8\\x90\\xa5\\xe8\\xb5\\xa0\\xe5\\x88\\xb8', '\\xe8\\x92\\xb2\\xe5\\x85\\xac\\xe8\\x8b\\xb1\\xe5\\x8f\\x97\\xe9\\x82\\x80', 'covers_mon', 'covers_tue', 'covers_wed'])\n",
      "done\n",
      "Recall: 0.270983199066\n",
      "Roc: 0.742156450361\n",
      "('feature: ', ['coupon_effective_days', 'money', 'max_money', 'type1', 'type6', '\\xe6\\xb4\\xbb\\xe5\\x8a\\xa8\\xe8\\xb5\\xa0\\xe5\\x88\\xb8', 'shareuser', '\\xe5\\x95\\x86\\xe5\\xae\\xb6\\xe6\\x8b\\x92\\xe5\\x8d\\x95\\xe8\\xbf\\x94\\xe5\\x88\\xb8', '\\xe5\\xae\\xb6\\xe5\\x8e\\xa8\\xe5\\x8f\\x91\\xe5\\x88\\xb8', '\\xe7\\xa0\\x81\\xe5\\x85\\x91\\xe5\\x88\\xb8', '\\xe8\\x87\\xaa\\xe8\\xbf\\x90\\xe8\\x90\\xa5\\xe8\\xb5\\xa0\\xe5\\x88\\xb8', '\\xe8\\x92\\xb2\\xe5\\x85\\xac\\xe8\\x8b\\xb1\\xe5\\x8f\\x97\\xe9\\x82\\x80', 'covers_mon', 'covers_tue', 'covers_wed', 'covers_thu'])\n",
      "done\n",
      "Recall: 0.257344793507\n",
      "Roc: 0.737767863515\n",
      "('feature: ', ['coupon_effective_days', 'money', 'max_money', 'type1', 'type6', '\\xe6\\xb4\\xbb\\xe5\\x8a\\xa8\\xe8\\xb5\\xa0\\xe5\\x88\\xb8', 'shareuser', '\\xe5\\x95\\x86\\xe5\\xae\\xb6\\xe6\\x8b\\x92\\xe5\\x8d\\x95\\xe8\\xbf\\x94\\xe5\\x88\\xb8', '\\xe5\\xae\\xb6\\xe5\\x8e\\xa8\\xe5\\x8f\\x91\\xe5\\x88\\xb8', '\\xe7\\xa0\\x81\\xe5\\x85\\x91\\xe5\\x88\\xb8', '\\xe8\\x87\\xaa\\xe8\\xbf\\x90\\xe8\\x90\\xa5\\xe8\\xb5\\xa0\\xe5\\x88\\xb8', '\\xe8\\x92\\xb2\\xe5\\x85\\xac\\xe8\\x8b\\xb1\\xe5\\x8f\\x97\\xe9\\x82\\x80', 'covers_mon', 'covers_tue', 'covers_wed', 'covers_thu', 'covers_fri'])\n",
      "done\n",
      "Recall: 0.253876793148\n",
      "Roc: 0.737216264601\n",
      "('feature: ', ['coupon_effective_days', 'money', 'max_money', 'type1', 'type6', '\\xe6\\xb4\\xbb\\xe5\\x8a\\xa8\\xe8\\xb5\\xa0\\xe5\\x88\\xb8', 'shareuser', '\\xe5\\x95\\x86\\xe5\\xae\\xb6\\xe6\\x8b\\x92\\xe5\\x8d\\x95\\xe8\\xbf\\x94\\xe5\\x88\\xb8', '\\xe5\\xae\\xb6\\xe5\\x8e\\xa8\\xe5\\x8f\\x91\\xe5\\x88\\xb8', '\\xe7\\xa0\\x81\\xe5\\x85\\x91\\xe5\\x88\\xb8', '\\xe8\\x87\\xaa\\xe8\\xbf\\x90\\xe8\\x90\\xa5\\xe8\\xb5\\xa0\\xe5\\x88\\xb8', '\\xe8\\x92\\xb2\\xe5\\x85\\xac\\xe8\\x8b\\xb1\\xe5\\x8f\\x97\\xe9\\x82\\x80', 'covers_mon', 'covers_tue', 'covers_wed', 'covers_thu', 'covers_fri', 'covers_sat'])\n",
      "done\n",
      "Recall: 0.25387080351\n",
      "Roc: 0.734098894817\n",
      "('feature: ', ['coupon_effective_days', 'money', 'max_money', 'type1', 'type6', '\\xe6\\xb4\\xbb\\xe5\\x8a\\xa8\\xe8\\xb5\\xa0\\xe5\\x88\\xb8', 'shareuser', '\\xe5\\x95\\x86\\xe5\\xae\\xb6\\xe6\\x8b\\x92\\xe5\\x8d\\x95\\xe8\\xbf\\x94\\xe5\\x88\\xb8', '\\xe5\\xae\\xb6\\xe5\\x8e\\xa8\\xe5\\x8f\\x91\\xe5\\x88\\xb8', '\\xe7\\xa0\\x81\\xe5\\x85\\x91\\xe5\\x88\\xb8', '\\xe8\\x87\\xaa\\xe8\\xbf\\x90\\xe8\\x90\\xa5\\xe8\\xb5\\xa0\\xe5\\x88\\xb8', '\\xe8\\x92\\xb2\\xe5\\x85\\xac\\xe8\\x8b\\xb1\\xe5\\x8f\\x97\\xe9\\x82\\x80', 'covers_mon', 'covers_tue', 'covers_wed', 'covers_thu', 'covers_fri', 'covers_sat', 'covers_sunComplaints'])\n"
     ]
    },
    {
     "ename": "ValueError",
     "evalue": "labels ['covers_sunComplaints'] not contained in axis",
     "output_type": "error",
     "traceback": [
      "\u001b[0;31m---------------------------------------------------------------------------\u001b[0m",
      "\u001b[0;31mValueError\u001b[0m                                Traceback (most recent call last)",
      "\u001b[0;32m<ipython-input-64-136aabb3c286>\u001b[0m in \u001b[0;36m<module>\u001b[0;34m()\u001b[0m\n\u001b[1;32m      7\u001b[0m     \u001b[0;32mprint\u001b[0m \u001b[0;34m(\u001b[0m\u001b[0;34m\"feature: \"\u001b[0m\u001b[0;34m,\u001b[0m \u001b[0mfeature\u001b[0m\u001b[0;34m)\u001b[0m\u001b[0;34m\u001b[0m\u001b[0m\n\u001b[1;32m      8\u001b[0m \u001b[0;34m\u001b[0m\u001b[0m\n\u001b[0;32m----> 9\u001b[0;31m     \u001b[0mX_train\u001b[0m \u001b[0;34m=\u001b[0m \u001b[0mX_trainset\u001b[0m\u001b[0;34m.\u001b[0m\u001b[0mdrop\u001b[0m\u001b[0;34m(\u001b[0m\u001b[0mfeature\u001b[0m\u001b[0;34m,\u001b[0m \u001b[0maxis\u001b[0m\u001b[0;34m=\u001b[0m\u001b[0;36m1\u001b[0m\u001b[0;34m)\u001b[0m\u001b[0;34m\u001b[0m\u001b[0m\n\u001b[0m\u001b[1;32m     10\u001b[0m     \u001b[0;32mprint\u001b[0m \u001b[0;34m(\u001b[0m\u001b[0;34m\"done\"\u001b[0m\u001b[0;34m)\u001b[0m\u001b[0;34m\u001b[0m\u001b[0m\n\u001b[1;32m     11\u001b[0m     \u001b[0mclf_rf\u001b[0m\u001b[0;34m.\u001b[0m\u001b[0mfit\u001b[0m\u001b[0;34m(\u001b[0m\u001b[0mX_train\u001b[0m\u001b[0;34m,\u001b[0m \u001b[0my_trainset\u001b[0m\u001b[0;34m)\u001b[0m\u001b[0;34m\u001b[0m\u001b[0m\n",
      "\u001b[0;32m/Users/Phoebe/anaconda/envs/py27/lib/python2.7/site-packages/pandas/core/generic.pyc\u001b[0m in \u001b[0;36mdrop\u001b[0;34m(self, labels, axis, index, columns, level, inplace, errors)\u001b[0m\n\u001b[1;32m   2528\u001b[0m         \u001b[0;32mfor\u001b[0m \u001b[0maxis\u001b[0m\u001b[0;34m,\u001b[0m \u001b[0mlabels\u001b[0m \u001b[0;32min\u001b[0m \u001b[0maxes\u001b[0m\u001b[0;34m.\u001b[0m\u001b[0mitems\u001b[0m\u001b[0;34m(\u001b[0m\u001b[0;34m)\u001b[0m\u001b[0;34m:\u001b[0m\u001b[0;34m\u001b[0m\u001b[0m\n\u001b[1;32m   2529\u001b[0m             \u001b[0;32mif\u001b[0m \u001b[0mlabels\u001b[0m \u001b[0;32mis\u001b[0m \u001b[0;32mnot\u001b[0m \u001b[0mNone\u001b[0m\u001b[0;34m:\u001b[0m\u001b[0;34m\u001b[0m\u001b[0m\n\u001b[0;32m-> 2530\u001b[0;31m                 \u001b[0mobj\u001b[0m \u001b[0;34m=\u001b[0m \u001b[0mobj\u001b[0m\u001b[0;34m.\u001b[0m\u001b[0m_drop_axis\u001b[0m\u001b[0;34m(\u001b[0m\u001b[0mlabels\u001b[0m\u001b[0;34m,\u001b[0m \u001b[0maxis\u001b[0m\u001b[0;34m,\u001b[0m \u001b[0mlevel\u001b[0m\u001b[0;34m=\u001b[0m\u001b[0mlevel\u001b[0m\u001b[0;34m,\u001b[0m \u001b[0merrors\u001b[0m\u001b[0;34m=\u001b[0m\u001b[0merrors\u001b[0m\u001b[0;34m)\u001b[0m\u001b[0;34m\u001b[0m\u001b[0m\n\u001b[0m\u001b[1;32m   2531\u001b[0m \u001b[0;34m\u001b[0m\u001b[0m\n\u001b[1;32m   2532\u001b[0m         \u001b[0;32mif\u001b[0m \u001b[0minplace\u001b[0m\u001b[0;34m:\u001b[0m\u001b[0;34m\u001b[0m\u001b[0m\n",
      "\u001b[0;32m/Users/Phoebe/anaconda/envs/py27/lib/python2.7/site-packages/pandas/core/generic.pyc\u001b[0m in \u001b[0;36m_drop_axis\u001b[0;34m(self, labels, axis, level, errors)\u001b[0m\n\u001b[1;32m   2560\u001b[0m                 \u001b[0mnew_axis\u001b[0m \u001b[0;34m=\u001b[0m \u001b[0maxis\u001b[0m\u001b[0;34m.\u001b[0m\u001b[0mdrop\u001b[0m\u001b[0;34m(\u001b[0m\u001b[0mlabels\u001b[0m\u001b[0;34m,\u001b[0m \u001b[0mlevel\u001b[0m\u001b[0;34m=\u001b[0m\u001b[0mlevel\u001b[0m\u001b[0;34m,\u001b[0m \u001b[0merrors\u001b[0m\u001b[0;34m=\u001b[0m\u001b[0merrors\u001b[0m\u001b[0;34m)\u001b[0m\u001b[0;34m\u001b[0m\u001b[0m\n\u001b[1;32m   2561\u001b[0m             \u001b[0;32melse\u001b[0m\u001b[0;34m:\u001b[0m\u001b[0;34m\u001b[0m\u001b[0m\n\u001b[0;32m-> 2562\u001b[0;31m                 \u001b[0mnew_axis\u001b[0m \u001b[0;34m=\u001b[0m \u001b[0maxis\u001b[0m\u001b[0;34m.\u001b[0m\u001b[0mdrop\u001b[0m\u001b[0;34m(\u001b[0m\u001b[0mlabels\u001b[0m\u001b[0;34m,\u001b[0m \u001b[0merrors\u001b[0m\u001b[0;34m=\u001b[0m\u001b[0merrors\u001b[0m\u001b[0;34m)\u001b[0m\u001b[0;34m\u001b[0m\u001b[0m\n\u001b[0m\u001b[1;32m   2563\u001b[0m             \u001b[0mdropped\u001b[0m \u001b[0;34m=\u001b[0m \u001b[0mself\u001b[0m\u001b[0;34m.\u001b[0m\u001b[0mreindex\u001b[0m\u001b[0;34m(\u001b[0m\u001b[0;34m**\u001b[0m\u001b[0;34m{\u001b[0m\u001b[0maxis_name\u001b[0m\u001b[0;34m:\u001b[0m \u001b[0mnew_axis\u001b[0m\u001b[0;34m}\u001b[0m\u001b[0;34m)\u001b[0m\u001b[0;34m\u001b[0m\u001b[0m\n\u001b[1;32m   2564\u001b[0m             \u001b[0;32mtry\u001b[0m\u001b[0;34m:\u001b[0m\u001b[0;34m\u001b[0m\u001b[0m\n",
      "\u001b[0;32m/Users/Phoebe/anaconda/envs/py27/lib/python2.7/site-packages/pandas/core/indexes/base.pyc\u001b[0m in \u001b[0;36mdrop\u001b[0;34m(self, labels, errors)\u001b[0m\n\u001b[1;32m   3742\u001b[0m             \u001b[0;32mif\u001b[0m \u001b[0merrors\u001b[0m \u001b[0;34m!=\u001b[0m \u001b[0;34m'ignore'\u001b[0m\u001b[0;34m:\u001b[0m\u001b[0;34m\u001b[0m\u001b[0m\n\u001b[1;32m   3743\u001b[0m                 raise ValueError('labels %s not contained in axis' %\n\u001b[0;32m-> 3744\u001b[0;31m                                  labels[mask])\n\u001b[0m\u001b[1;32m   3745\u001b[0m             \u001b[0mindexer\u001b[0m \u001b[0;34m=\u001b[0m \u001b[0mindexer\u001b[0m\u001b[0;34m[\u001b[0m\u001b[0;34m~\u001b[0m\u001b[0mmask\u001b[0m\u001b[0;34m]\u001b[0m\u001b[0;34m\u001b[0m\u001b[0m\n\u001b[1;32m   3746\u001b[0m         \u001b[0;32mreturn\u001b[0m \u001b[0mself\u001b[0m\u001b[0;34m.\u001b[0m\u001b[0mdelete\u001b[0m\u001b[0;34m(\u001b[0m\u001b[0mindexer\u001b[0m\u001b[0;34m)\u001b[0m\u001b[0;34m\u001b[0m\u001b[0m\n",
      "\u001b[0;31mValueError\u001b[0m: labels ['covers_sunComplaints'] not contained in axis"
     ]
    }
   ],
   "source": [
    "check_feature_list = coupon_based_features\n",
    "results_list = list()\n",
    "\n",
    "for i in xrange(19, len(check_feature_list)):\n",
    "    \n",
    "    feature = check_feature_list[:i+1]\n",
    "    print (\"feature: \", feature)\n",
    "\n",
    "    X_train = X_trainset.drop(feature, axis=1)\n",
    "    print (\"done\")\n",
    "    clf_rf.fit(X_train, y_trainset)\n",
    "\n",
    "    X_test = X_testset.drop(feature, axis=1)\n",
    "    y_pred_class = clf_rf.predict(X_test)\n",
    "\n",
    "    if clf_rf.classes_[1] == 1:\n",
    "        y_pred_prob = clf_rf.predict_proba(X_test)[:, 1]\n",
    "    else:\n",
    "        y_pred_prob = clf_rf.predict_proba(X_test)[:, 0]\n",
    "\n",
    "    recall = recall_score(y_testset, y_pred_class, labels=[1,0])\n",
    "    print(\"Recall: {}\".format(recall))\n",
    "\n",
    "    roc = roc_auc_score(y_testset, y_pred_prob)\n",
    "    print(\"Roc: {}\".format(roc))\n",
    "    \n",
    "    results = [feature, recall, roc]\n",
    "    results_list.append(results)\n",
    "    \n",
    "final_df = pd.DataFrame(results_list, columns = [\"params\", \"recall\", \"roc\"])\n",
    "final_df.to_csv(\"results_list2.csv\", index=False, header=True)"
   ]
  },
  {
   "cell_type": "code",
   "execution_count": 65,
   "metadata": {
    "collapsed": true
   },
   "outputs": [],
   "source": [
    "coupon_based_features = ['coupon_effective_days', 'money', 'max_money', 'type1', 'type6', '活动赠券', 'shareuser',\n",
    "               '商家拒单返券', '家厨发券', '码兑券', '自运营赠券', '蒲公英受邀', \n",
    "               'covers_mon', 'covers_tue', 'covers_wed', 'covers_thu', 'covers_fri', 'covers_sat', 'covers_sun',\n",
    "               'Complaints', 'PreUserCouponCode', 'RecallUserDaily', 'home201603222253', \n",
    "               'home_dongbeiguan', 'home_jiangzhecai', 'home_muqinjie', 'preuser']"
   ]
  },
  {
   "cell_type": "code",
   "execution_count": 66,
   "metadata": {},
   "outputs": [
    {
     "name": "stdout",
     "output_type": "stream",
     "text": [
      "('feature: ', ['coupon_effective_days', 'money', 'max_money', 'type1', 'type6', '\\xe6\\xb4\\xbb\\xe5\\x8a\\xa8\\xe8\\xb5\\xa0\\xe5\\x88\\xb8', 'shareuser', '\\xe5\\x95\\x86\\xe5\\xae\\xb6\\xe6\\x8b\\x92\\xe5\\x8d\\x95\\xe8\\xbf\\x94\\xe5\\x88\\xb8', '\\xe5\\xae\\xb6\\xe5\\x8e\\xa8\\xe5\\x8f\\x91\\xe5\\x88\\xb8', '\\xe7\\xa0\\x81\\xe5\\x85\\x91\\xe5\\x88\\xb8', '\\xe8\\x87\\xaa\\xe8\\xbf\\x90\\xe8\\x90\\xa5\\xe8\\xb5\\xa0\\xe5\\x88\\xb8', '\\xe8\\x92\\xb2\\xe5\\x85\\xac\\xe8\\x8b\\xb1\\xe5\\x8f\\x97\\xe9\\x82\\x80', 'covers_mon', 'covers_tue', 'covers_wed', 'covers_thu', 'covers_fri', 'covers_sat', 'covers_sun', 'Complaints'])\n",
      "done\n",
      "Recall: 0.258997933575\n",
      "Roc: 0.72522050257\n",
      "('feature: ', ['coupon_effective_days', 'money', 'max_money', 'type1', 'type6', '\\xe6\\xb4\\xbb\\xe5\\x8a\\xa8\\xe8\\xb5\\xa0\\xe5\\x88\\xb8', 'shareuser', '\\xe5\\x95\\x86\\xe5\\xae\\xb6\\xe6\\x8b\\x92\\xe5\\x8d\\x95\\xe8\\xbf\\x94\\xe5\\x88\\xb8', '\\xe5\\xae\\xb6\\xe5\\x8e\\xa8\\xe5\\x8f\\x91\\xe5\\x88\\xb8', '\\xe7\\xa0\\x81\\xe5\\x85\\x91\\xe5\\x88\\xb8', '\\xe8\\x87\\xaa\\xe8\\xbf\\x90\\xe8\\x90\\xa5\\xe8\\xb5\\xa0\\xe5\\x88\\xb8', '\\xe8\\x92\\xb2\\xe5\\x85\\xac\\xe8\\x8b\\xb1\\xe5\\x8f\\x97\\xe9\\x82\\x80', 'covers_mon', 'covers_tue', 'covers_wed', 'covers_thu', 'covers_fri', 'covers_sat', 'covers_sun', 'Complaints', 'PreUserCouponCode'])\n",
      "done\n",
      "Recall: 0.258884130454\n",
      "Roc: 0.725499284687\n",
      "('feature: ', ['coupon_effective_days', 'money', 'max_money', 'type1', 'type6', '\\xe6\\xb4\\xbb\\xe5\\x8a\\xa8\\xe8\\xb5\\xa0\\xe5\\x88\\xb8', 'shareuser', '\\xe5\\x95\\x86\\xe5\\xae\\xb6\\xe6\\x8b\\x92\\xe5\\x8d\\x95\\xe8\\xbf\\x94\\xe5\\x88\\xb8', '\\xe5\\xae\\xb6\\xe5\\x8e\\xa8\\xe5\\x8f\\x91\\xe5\\x88\\xb8', '\\xe7\\xa0\\x81\\xe5\\x85\\x91\\xe5\\x88\\xb8', '\\xe8\\x87\\xaa\\xe8\\xbf\\x90\\xe8\\x90\\xa5\\xe8\\xb5\\xa0\\xe5\\x88\\xb8', '\\xe8\\x92\\xb2\\xe5\\x85\\xac\\xe8\\x8b\\xb1\\xe5\\x8f\\x97\\xe9\\x82\\x80', 'covers_mon', 'covers_tue', 'covers_wed', 'covers_thu', 'covers_fri', 'covers_sat', 'covers_sun', 'Complaints', 'PreUserCouponCode', 'RecallUserDaily'])\n",
      "done\n",
      "Recall: 0.238609206073\n",
      "Roc: 0.721278179171\n",
      "('feature: ', ['coupon_effective_days', 'money', 'max_money', 'type1', 'type6', '\\xe6\\xb4\\xbb\\xe5\\x8a\\xa8\\xe8\\xb5\\xa0\\xe5\\x88\\xb8', 'shareuser', '\\xe5\\x95\\x86\\xe5\\xae\\xb6\\xe6\\x8b\\x92\\xe5\\x8d\\x95\\xe8\\xbf\\x94\\xe5\\x88\\xb8', '\\xe5\\xae\\xb6\\xe5\\x8e\\xa8\\xe5\\x8f\\x91\\xe5\\x88\\xb8', '\\xe7\\xa0\\x81\\xe5\\x85\\x91\\xe5\\x88\\xb8', '\\xe8\\x87\\xaa\\xe8\\xbf\\x90\\xe8\\x90\\xa5\\xe8\\xb5\\xa0\\xe5\\x88\\xb8', '\\xe8\\x92\\xb2\\xe5\\x85\\xac\\xe8\\x8b\\xb1\\xe5\\x8f\\x97\\xe9\\x82\\x80', 'covers_mon', 'covers_tue', 'covers_wed', 'covers_thu', 'covers_fri', 'covers_sat', 'covers_sun', 'Complaints', 'PreUserCouponCode', 'RecallUserDaily', 'home201603222253'])\n",
      "done\n",
      "Recall: 0.237303465006\n",
      "Roc: 0.721608903947\n",
      "('feature: ', ['coupon_effective_days', 'money', 'max_money', 'type1', 'type6', '\\xe6\\xb4\\xbb\\xe5\\x8a\\xa8\\xe8\\xb5\\xa0\\xe5\\x88\\xb8', 'shareuser', '\\xe5\\x95\\x86\\xe5\\xae\\xb6\\xe6\\x8b\\x92\\xe5\\x8d\\x95\\xe8\\xbf\\x94\\xe5\\x88\\xb8', '\\xe5\\xae\\xb6\\xe5\\x8e\\xa8\\xe5\\x8f\\x91\\xe5\\x88\\xb8', '\\xe7\\xa0\\x81\\xe5\\x85\\x91\\xe5\\x88\\xb8', '\\xe8\\x87\\xaa\\xe8\\xbf\\x90\\xe8\\x90\\xa5\\xe8\\xb5\\xa0\\xe5\\x88\\xb8', '\\xe8\\x92\\xb2\\xe5\\x85\\xac\\xe8\\x8b\\xb1\\xe5\\x8f\\x97\\xe9\\x82\\x80', 'covers_mon', 'covers_tue', 'covers_wed', 'covers_thu', 'covers_fri', 'covers_sat', 'covers_sun', 'Complaints', 'PreUserCouponCode', 'RecallUserDaily', 'home201603222253', 'home_dongbeiguan'])\n",
      "done\n",
      "Recall: 0.238579257884\n",
      "Roc: 0.722076795756\n",
      "('feature: ', ['coupon_effective_days', 'money', 'max_money', 'type1', 'type6', '\\xe6\\xb4\\xbb\\xe5\\x8a\\xa8\\xe8\\xb5\\xa0\\xe5\\x88\\xb8', 'shareuser', '\\xe5\\x95\\x86\\xe5\\xae\\xb6\\xe6\\x8b\\x92\\xe5\\x8d\\x95\\xe8\\xbf\\x94\\xe5\\x88\\xb8', '\\xe5\\xae\\xb6\\xe5\\x8e\\xa8\\xe5\\x8f\\x91\\xe5\\x88\\xb8', '\\xe7\\xa0\\x81\\xe5\\x85\\x91\\xe5\\x88\\xb8', '\\xe8\\x87\\xaa\\xe8\\xbf\\x90\\xe8\\x90\\xa5\\xe8\\xb5\\xa0\\xe5\\x88\\xb8', '\\xe8\\x92\\xb2\\xe5\\x85\\xac\\xe8\\x8b\\xb1\\xe5\\x8f\\x97\\xe9\\x82\\x80', 'covers_mon', 'covers_tue', 'covers_wed', 'covers_thu', 'covers_fri', 'covers_sat', 'covers_sun', 'Complaints', 'PreUserCouponCode', 'RecallUserDaily', 'home201603222253', 'home_dongbeiguan', 'home_jiangzhecai'])\n",
      "done\n",
      "Recall: 0.230044023839\n",
      "Roc: 0.722710148922\n",
      "('feature: ', ['coupon_effective_days', 'money', 'max_money', 'type1', 'type6', '\\xe6\\xb4\\xbb\\xe5\\x8a\\xa8\\xe8\\xb5\\xa0\\xe5\\x88\\xb8', 'shareuser', '\\xe5\\x95\\x86\\xe5\\xae\\xb6\\xe6\\x8b\\x92\\xe5\\x8d\\x95\\xe8\\xbf\\x94\\xe5\\x88\\xb8', '\\xe5\\xae\\xb6\\xe5\\x8e\\xa8\\xe5\\x8f\\x91\\xe5\\x88\\xb8', '\\xe7\\xa0\\x81\\xe5\\x85\\x91\\xe5\\x88\\xb8', '\\xe8\\x87\\xaa\\xe8\\xbf\\x90\\xe8\\x90\\xa5\\xe8\\xb5\\xa0\\xe5\\x88\\xb8', '\\xe8\\x92\\xb2\\xe5\\x85\\xac\\xe8\\x8b\\xb1\\xe5\\x8f\\x97\\xe9\\x82\\x80', 'covers_mon', 'covers_tue', 'covers_wed', 'covers_thu', 'covers_fri', 'covers_sat', 'covers_sun', 'Complaints', 'PreUserCouponCode', 'RecallUserDaily', 'home201603222253', 'home_dongbeiguan', 'home_jiangzhecai', 'home_muqinjie'])\n",
      "done\n",
      "Recall: 0.233248480129\n",
      "Roc: 0.722154904752\n",
      "('feature: ', ['coupon_effective_days', 'money', 'max_money', 'type1', 'type6', '\\xe6\\xb4\\xbb\\xe5\\x8a\\xa8\\xe8\\xb5\\xa0\\xe5\\x88\\xb8', 'shareuser', '\\xe5\\x95\\x86\\xe5\\xae\\xb6\\xe6\\x8b\\x92\\xe5\\x8d\\x95\\xe8\\xbf\\x94\\xe5\\x88\\xb8', '\\xe5\\xae\\xb6\\xe5\\x8e\\xa8\\xe5\\x8f\\x91\\xe5\\x88\\xb8', '\\xe7\\xa0\\x81\\xe5\\x85\\x91\\xe5\\x88\\xb8', '\\xe8\\x87\\xaa\\xe8\\xbf\\x90\\xe8\\x90\\xa5\\xe8\\xb5\\xa0\\xe5\\x88\\xb8', '\\xe8\\x92\\xb2\\xe5\\x85\\xac\\xe8\\x8b\\xb1\\xe5\\x8f\\x97\\xe9\\x82\\x80', 'covers_mon', 'covers_tue', 'covers_wed', 'covers_thu', 'covers_fri', 'covers_sat', 'covers_sun', 'Complaints', 'PreUserCouponCode', 'RecallUserDaily', 'home201603222253', 'home_dongbeiguan', 'home_jiangzhecai', 'home_muqinjie', 'preuser'])\n",
      "done\n",
      "Recall: 0.232745350544\n",
      "Roc: 0.722939228065\n"
     ]
    }
   ],
   "source": [
    "check_feature_list = coupon_based_features\n",
    "results_list = list()\n",
    "\n",
    "for i in xrange(19, len(check_feature_list)):\n",
    "    \n",
    "    feature = check_feature_list[:i+1]\n",
    "    print (\"feature: \", feature)\n",
    "\n",
    "    X_train = X_trainset.drop(feature, axis=1)\n",
    "    print (\"done\")\n",
    "    clf_rf.fit(X_train, y_trainset)\n",
    "\n",
    "    X_test = X_testset.drop(feature, axis=1)\n",
    "    y_pred_class = clf_rf.predict(X_test)\n",
    "\n",
    "    if clf_rf.classes_[1] == 1:\n",
    "        y_pred_prob = clf_rf.predict_proba(X_test)[:, 1]\n",
    "    else:\n",
    "        y_pred_prob = clf_rf.predict_proba(X_test)[:, 0]\n",
    "\n",
    "    recall = recall_score(y_testset, y_pred_class, labels=[1,0])\n",
    "    print(\"Recall: {}\".format(recall))\n",
    "\n",
    "    roc = roc_auc_score(y_testset, y_pred_prob)\n",
    "    print(\"Roc: {}\".format(roc))\n",
    "    \n",
    "    results = [feature, recall, roc]\n",
    "    results_list.append(results)\n",
    "    \n",
    "final_df = pd.DataFrame(results_list, columns = [\"params\", \"recall\", \"roc\"])\n",
    "final_df.to_csv(\"results_list3.csv\", index=False, header=True)"
   ]
  },
  {
   "cell_type": "code",
   "execution_count": 5,
   "metadata": {
    "collapsed": true
   },
   "outputs": [],
   "source": [
    "read_results1 = pd.read_csv(\"results_list.csv\")"
   ]
  },
  {
   "cell_type": "code",
   "execution_count": 73,
   "metadata": {},
   "outputs": [
    {
     "data": {
      "text/html": [
       "<div>\n",
       "<style scoped>\n",
       "    .dataframe tbody tr th:only-of-type {\n",
       "        vertical-align: middle;\n",
       "    }\n",
       "\n",
       "    .dataframe tbody tr th {\n",
       "        vertical-align: top;\n",
       "    }\n",
       "\n",
       "    .dataframe thead th {\n",
       "        text-align: right;\n",
       "    }\n",
       "</style>\n",
       "<table border=\"1\" class=\"dataframe\">\n",
       "  <thead>\n",
       "    <tr style=\"text-align: right;\">\n",
       "      <th></th>\n",
       "      <th>params</th>\n",
       "      <th>recall</th>\n",
       "      <th>roc</th>\n",
       "    </tr>\n",
       "  </thead>\n",
       "  <tbody>\n",
       "    <tr>\n",
       "      <th>0</th>\n",
       "      <td>['coupon_effective_days', 'money', 'max_money'...</td>\n",
       "      <td>0.258998</td>\n",
       "      <td>0.725221</td>\n",
       "    </tr>\n",
       "    <tr>\n",
       "      <th>1</th>\n",
       "      <td>['coupon_effective_days', 'money', 'max_money'...</td>\n",
       "      <td>0.258884</td>\n",
       "      <td>0.725499</td>\n",
       "    </tr>\n",
       "    <tr>\n",
       "      <th>2</th>\n",
       "      <td>['coupon_effective_days', 'money', 'max_money'...</td>\n",
       "      <td>0.238609</td>\n",
       "      <td>0.721278</td>\n",
       "    </tr>\n",
       "    <tr>\n",
       "      <th>3</th>\n",
       "      <td>['coupon_effective_days', 'money', 'max_money'...</td>\n",
       "      <td>0.237303</td>\n",
       "      <td>0.721609</td>\n",
       "    </tr>\n",
       "    <tr>\n",
       "      <th>4</th>\n",
       "      <td>['coupon_effective_days', 'money', 'max_money'...</td>\n",
       "      <td>0.238579</td>\n",
       "      <td>0.722077</td>\n",
       "    </tr>\n",
       "    <tr>\n",
       "      <th>5</th>\n",
       "      <td>['coupon_effective_days', 'money', 'max_money'...</td>\n",
       "      <td>0.230044</td>\n",
       "      <td>0.722710</td>\n",
       "    </tr>\n",
       "    <tr>\n",
       "      <th>6</th>\n",
       "      <td>['coupon_effective_days', 'money', 'max_money'...</td>\n",
       "      <td>0.233248</td>\n",
       "      <td>0.722155</td>\n",
       "    </tr>\n",
       "    <tr>\n",
       "      <th>7</th>\n",
       "      <td>['coupon_effective_days', 'money', 'max_money'...</td>\n",
       "      <td>0.232745</td>\n",
       "      <td>0.722939</td>\n",
       "    </tr>\n",
       "  </tbody>\n",
       "</table>\n",
       "</div>"
      ],
      "text/plain": [
       "                                              params    recall       roc\n",
       "0  ['coupon_effective_days', 'money', 'max_money'...  0.258998  0.725221\n",
       "1  ['coupon_effective_days', 'money', 'max_money'...  0.258884  0.725499\n",
       "2  ['coupon_effective_days', 'money', 'max_money'...  0.238609  0.721278\n",
       "3  ['coupon_effective_days', 'money', 'max_money'...  0.237303  0.721609\n",
       "4  ['coupon_effective_days', 'money', 'max_money'...  0.238579  0.722077\n",
       "5  ['coupon_effective_days', 'money', 'max_money'...  0.230044  0.722710\n",
       "6  ['coupon_effective_days', 'money', 'max_money'...  0.233248  0.722155\n",
       "7  ['coupon_effective_days', 'money', 'max_money'...  0.232745  0.722939"
      ]
     },
     "execution_count": 73,
     "metadata": {},
     "output_type": "execute_result"
    }
   ],
   "source": [
    "read_results"
   ]
  },
  {
   "cell_type": "code",
   "execution_count": 74,
   "metadata": {},
   "outputs": [
    {
     "data": {
      "text/html": [
       "<div>\n",
       "<style scoped>\n",
       "    .dataframe tbody tr th:only-of-type {\n",
       "        vertical-align: middle;\n",
       "    }\n",
       "\n",
       "    .dataframe tbody tr th {\n",
       "        vertical-align: top;\n",
       "    }\n",
       "\n",
       "    .dataframe thead th {\n",
       "        text-align: right;\n",
       "    }\n",
       "</style>\n",
       "<table border=\"1\" class=\"dataframe\">\n",
       "  <thead>\n",
       "    <tr style=\"text-align: right;\">\n",
       "      <th></th>\n",
       "      <th>params</th>\n",
       "      <th>recall</th>\n",
       "      <th>roc</th>\n",
       "    </tr>\n",
       "  </thead>\n",
       "  <tbody>\n",
       "    <tr>\n",
       "      <th>0</th>\n",
       "      <td>['coupon_effective_days', 'money']</td>\n",
       "      <td>0.554952</td>\n",
       "      <td>0.838630</td>\n",
       "    </tr>\n",
       "    <tr>\n",
       "      <th>1</th>\n",
       "      <td>['coupon_effective_days', 'money', 'max_money']</td>\n",
       "      <td>0.621449</td>\n",
       "      <td>0.829375</td>\n",
       "    </tr>\n",
       "    <tr>\n",
       "      <th>2</th>\n",
       "      <td>['coupon_effective_days', 'money', 'max_money'...</td>\n",
       "      <td>0.625300</td>\n",
       "      <td>0.832484</td>\n",
       "    </tr>\n",
       "    <tr>\n",
       "      <th>3</th>\n",
       "      <td>['coupon_effective_days', 'money', 'max_money'...</td>\n",
       "      <td>0.552682</td>\n",
       "      <td>0.826393</td>\n",
       "    </tr>\n",
       "    <tr>\n",
       "      <th>4</th>\n",
       "      <td>['coupon_effective_days', 'money', 'max_money'...</td>\n",
       "      <td>0.553952</td>\n",
       "      <td>0.826066</td>\n",
       "    </tr>\n",
       "    <tr>\n",
       "      <th>5</th>\n",
       "      <td>['coupon_effective_days', 'money', 'max_money'...</td>\n",
       "      <td>0.362828</td>\n",
       "      <td>0.774560</td>\n",
       "    </tr>\n",
       "  </tbody>\n",
       "</table>\n",
       "</div>"
      ],
      "text/plain": [
       "                                              params    recall       roc\n",
       "0                 ['coupon_effective_days', 'money']  0.554952  0.838630\n",
       "1    ['coupon_effective_days', 'money', 'max_money']  0.621449  0.829375\n",
       "2  ['coupon_effective_days', 'money', 'max_money'...  0.625300  0.832484\n",
       "3  ['coupon_effective_days', 'money', 'max_money'...  0.552682  0.826393\n",
       "4  ['coupon_effective_days', 'money', 'max_money'...  0.553952  0.826066\n",
       "5  ['coupon_effective_days', 'money', 'max_money'...  0.362828  0.774560"
      ]
     },
     "execution_count": 74,
     "metadata": {},
     "output_type": "execute_result"
    }
   ],
   "source": [
    "read_results1"
   ]
  },
  {
   "cell_type": "code",
   "execution_count": 77,
   "metadata": {},
   "outputs": [
    {
     "name": "stdout",
     "output_type": "stream",
     "text": [
      "('feature: ', ['coupon_effective_days', 'money', 'max_money', 'type1', 'type6', '\\xe6\\xb4\\xbb\\xe5\\x8a\\xa8\\xe8\\xb5\\xa0\\xe5\\x88\\xb8', 'shareuser', '\\xe5\\x95\\x86\\xe5\\xae\\xb6\\xe6\\x8b\\x92\\xe5\\x8d\\x95\\xe8\\xbf\\x94\\xe5\\x88\\xb8', '\\xe5\\xae\\xb6\\xe5\\x8e\\xa8\\xe5\\x8f\\x91\\xe5\\x88\\xb8', '\\xe7\\xa0\\x81\\xe5\\x85\\x91\\xe5\\x88\\xb8', '\\xe8\\x87\\xaa\\xe8\\xbf\\x90\\xe8\\x90\\xa5\\xe8\\xb5\\xa0\\xe5\\x88\\xb8', '\\xe8\\x92\\xb2\\xe5\\x85\\xac\\xe8\\x8b\\xb1\\xe5\\x8f\\x97\\xe9\\x82\\x80', 'covers_mon', 'covers_tue', 'covers_wed', 'covers_thu', 'covers_fri', 'covers_sat', 'covers_sun', 'Complaints'])\n",
      "done\n",
      "Recall: 0.258997933575\n",
      "Roc: 0.72522050257\n"
     ]
    }
   ],
   "source": [
    "check_feature_list = coupon_based_features\n",
    "\n",
    "for i in xrange(19, len(check_feature_list)):\n",
    "    \n",
    "    feature = check_feature_list[:i+1]\n",
    "    print (\"feature: \", feature)\n",
    "\n",
    "    X_train = X_trainset.drop(feature, axis=1)\n",
    "    print (\"done\")\n",
    "    clf_rf.fit(X_train, y_trainset)\n",
    "\n",
    "    X_test = X_testset.drop(feature, axis=1)\n",
    "    y_pred_class = clf_rf.predict(X_test)\n",
    "\n",
    "    if clf_rf.classes_[1] == 1:\n",
    "        y_pred_prob = clf_rf.predict_proba(X_test)[:, 1]\n",
    "    else:\n",
    "        y_pred_prob = clf_rf.predict_proba(X_test)[:, 0]\n",
    "\n",
    "    recall = recall_score(y_testset, y_pred_class, labels=[1,0])\n",
    "    print(\"Recall: {}\".format(recall))\n",
    "\n",
    "    roc = roc_auc_score(y_testset, y_pred_prob)\n",
    "    print(\"Roc: {}\".format(roc))\n",
    "    \n",
    "    results = [feature, recall, roc]\n",
    "    results_list.append(results)\n",
    "    break\n",
    "    \n",
    "final_df = pd.DataFrame(results_list, columns = [\"params\", \"recall\", \"roc\"])\n",
    "final_df.to_csv(\"results_list2.csv\", index=False, header=True)"
   ]
  },
  {
   "cell_type": "code",
   "execution_count": 38,
   "metadata": {},
   "outputs": [
    {
     "data": {
      "text/plain": [
       "['money',\n",
       " 'coupon_effective_days',\n",
       " 'max_money',\n",
       " 'covers_sun',\n",
       " 'covers_wed',\n",
       " 'covers_sat',\n",
       " 'covers_thu',\n",
       " 'type1',\n",
       " 'covers_mon',\n",
       " 'covers_tue',\n",
       " 'covers_fri',\n",
       " '\\xe6\\xb4\\xbb\\xe5\\x8a\\xa8\\xe8\\xb5\\xa0\\xe5\\x88\\xb8',\n",
       " 'shareuser',\n",
       " '\\xe7\\xa0\\x81\\xe5\\x85\\x91\\xe5\\x88\\xb8',\n",
       " '\\xe5\\xae\\xb6\\xe5\\x8e\\xa8\\xe5\\x8f\\x91\\xe5\\x88\\xb8',\n",
       " 'RecallUserDaily',\n",
       " 'type6',\n",
       " '\\xe8\\x87\\xaa\\xe8\\xbf\\x90\\xe8\\x90\\xa5\\xe8\\xb5\\xa0\\xe5\\x88\\xb8',\n",
       " 'home_muqinjie',\n",
       " 'preuser',\n",
       " 'home_jiangzhecai',\n",
       " '\\xe8\\x92\\xb2\\xe5\\x85\\xac\\xe8\\x8b\\xb1\\xe5\\x8f\\x97\\xe9\\x82\\x80',\n",
       " 'home201603222253',\n",
       " '\\xe5\\x95\\x86\\xe5\\xae\\xb6\\xe6\\x8b\\x92\\xe5\\x8d\\x95\\xe8\\xbf\\x94\\xe5\\x88\\xb8',\n",
       " 'PreUserCouponCode',\n",
       " 'home_dongbeiguan',\n",
       " 'Complaints',\n",
       " 'home_xiangcaiguan',\n",
       " 'NewUserCouponPackageByBD',\n",
       " 'Eventsoperation']"
      ]
     },
     "execution_count": 38,
     "metadata": {},
     "output_type": "execute_result"
    }
   ],
   "source": [
    "# get the coupon_based features according to their feature importance and drop one at a time"
   ]
  },
  {
   "cell_type": "code",
   "execution_count": 6,
   "metadata": {
    "collapsed": true
   },
   "outputs": [],
   "source": [
    "results_testset = pd.read_csv(\"results_testset.csv\")"
   ]
  },
  {
   "cell_type": "code",
   "execution_count": 12,
   "metadata": {
    "collapsed": true
   },
   "outputs": [],
   "source": [
    "#results_testset\n",
    "\n",
    "results_all = pd.concat([results_testset, X_testset, y_testset], axis=1)"
   ]
  },
  {
   "cell_type": "code",
   "execution_count": 80,
   "metadata": {
    "collapsed": true
   },
   "outputs": [],
   "source": [
    "results_list = pd.read_csv(\"results_list.csv\")"
   ]
  },
  {
   "cell_type": "code",
   "execution_count": 86,
   "metadata": {
    "collapsed": true
   },
   "outputs": [],
   "source": [
    "results_list['drop_feature'] = results_list['drop_params'].apply(lambda x: x.split()[-1])"
   ]
  },
  {
   "cell_type": "code",
   "execution_count": 90,
   "metadata": {
    "collapsed": true
   },
   "outputs": [],
   "source": [
    "test = results_list[['drop_feature', 'recall', 'roc']]"
   ]
  },
  {
   "cell_type": "code",
   "execution_count": 91,
   "metadata": {
    "collapsed": true
   },
   "outputs": [],
   "source": [
    "# drop feature one at a time from all features\n",
    "# the first drop is coupon effective days and then coupone effective days + next predictor.\n",
    "test.to_csv(\"feature_drop.csv\", index=False, header=True)"
   ]
  },
  {
   "cell_type": "code",
   "execution_count": 43,
   "metadata": {},
   "outputs": [
    {
     "data": {
      "text/plain": [
       "Index([u'testset_group1_class', u'testset_group2_class',\n",
       "       u'testset_group3_class', u'testset_group1_predict_prob_NotUsed',\n",
       "       u'testset_group2_predict_prob_NotUsed',\n",
       "       u'testset_group3_predict_prob_NotUsed',\n",
       "       u'testset_group1_predict_prob_Used',\n",
       "       u'testset_group2_predict_prob_Used',\n",
       "       u'testset_group3_predict_prob_Used', u'testset_all_predict_class',\n",
       "       u'testset_all_predict_prob_NotUsed', u'testset_all_predict_prob_Used',\n",
       "       u'sex_1', u'sex_2', u'age_60', u'age_70', u'age_80', u'age_90',\n",
       "       u'age_0', u'city1', u'city2', u'city3', u'city4', u'city5',\n",
       "       u'AppVerLast_2.1', u'AppVerLast_2.2', u'AppVerLast_2.3',\n",
       "       u'AppVerLast_2.4', u'AppVerLast_2.5', u'AppVerLast_2.7',\n",
       "       u'AppVerLast_2.8', u'covers_mon', u'covers_tue', u'covers_wed',\n",
       "       u'covers_thu', u'covers_fri', u'covers_sat', u'covers_sun', u'type1',\n",
       "       u'type6', u'Complaints', u'Eventsoperation',\n",
       "       u'NewUserCouponPackageByBD', u'PreUserCouponCode', u'RecallUserDaily',\n",
       "       u'home201603222253', u'home_dongbeiguan', u'home_jiangzhecai',\n",
       "       u'home_muqinjie', u'home_xiangcaiguan', u'preuser', u'shareuser',\n",
       "       u'商家拒单返券', u'家厨发券', u'活动赠券', u'码兑券', u'自运营赠券', u'蒲公英受邀', u'CoupUseLast',\n",
       "       u'kitchen_entropy', u'distance_median', u'distance_std',\n",
       "       u'user_longitude_median', u'user_longitude_std',\n",
       "       u'user_latitude_median', u'user_latitude_std', u'coupon_effective_days',\n",
       "       u'money', u'max_money', u'WeeklyCouponUsedCount',\n",
       "       u'BiWeeklyCouponUsedCount', u'WeeklyOrderCount', u'BiWeeklyOrderCount',\n",
       "       u'coupon_usage_rate', u'order_coupon_usage_rate',\n",
       "       u'coupon_type1_usage_rate', u'coupon_type6_usage_rate',\n",
       "       u'coupon_used_weekend_perc', u'order_weekend_perc',\n",
       "       u'worth_money_median', u'worth_money_std',\n",
       "       u'InterOrder_fillna_w_start_date', u'InterCoup_fillna_w_start_date',\n",
       "       u'Recency_fillna_w_start_date', u'is_used'],\n",
       "      dtype='object')"
      ]
     },
     "execution_count": 43,
     "metadata": {},
     "output_type": "execute_result"
    }
   ],
   "source": [
    "results_all.columns"
   ]
  },
  {
   "cell_type": "code",
   "execution_count": 61,
   "metadata": {},
   "outputs": [
    {
     "name": "stderr",
     "output_type": "stream",
     "text": [
      "/Users/Phoebe/anaconda/envs/py27/lib/python2.7/site-packages/ipykernel/__main__.py:7: SettingWithCopyWarning: \n",
      "A value is trying to be set on a copy of a slice from a DataFrame.\n",
      "Try using .loc[row_indexer,col_indexer] = value instead\n",
      "\n",
      "See the caveats in the documentation: http://pandas.pydata.org/pandas-docs/stable/indexing.html#indexing-view-versus-copy\n"
     ]
    }
   ],
   "source": [
    "def predict_correct(row):\n",
    "    if row['is_used'] == row['testset_all_predict_class']:\n",
    "        return 1\n",
    "    else: \n",
    "        return 0\n",
    "\n",
    "test['predict_correct'] = test.apply(predict_correct, axis=1)"
   ]
  },
  {
   "cell_type": "code",
   "execution_count": 42,
   "metadata": {},
   "outputs": [
    {
     "data": {
      "text/plain": [
       "Index([u'is_used', u'testset_all_predict_class', u'type6', u'活动赠券',\n",
       "       u'covers_tue', u'covers_wed', u'covers_thu', u'RecallUserDaily',\n",
       "       u'predict_correct'],\n",
       "      dtype='object')"
      ]
     },
     "execution_count": 42,
     "metadata": {},
     "output_type": "execute_result"
    }
   ],
   "source": [
    "test.columns"
   ]
  },
  {
   "cell_type": "code",
   "execution_count": 45,
   "metadata": {},
   "outputs": [
    {
     "data": {
      "text/html": [
       "<div>\n",
       "<style scoped>\n",
       "    .dataframe tbody tr th:only-of-type {\n",
       "        vertical-align: middle;\n",
       "    }\n",
       "\n",
       "    .dataframe tbody tr th {\n",
       "        vertical-align: top;\n",
       "    }\n",
       "\n",
       "    .dataframe thead th {\n",
       "        text-align: right;\n",
       "    }\n",
       "</style>\n",
       "<table border=\"1\" class=\"dataframe\">\n",
       "  <thead>\n",
       "    <tr style=\"text-align: right;\">\n",
       "      <th></th>\n",
       "      <th>covers_tue</th>\n",
       "      <th>活动赠券</th>\n",
       "      <th>type6</th>\n",
       "      <th>type6</th>\n",
       "    </tr>\n",
       "  </thead>\n",
       "  <tbody>\n",
       "    <tr>\n",
       "      <th>0</th>\n",
       "      <td>0.0</td>\n",
       "      <td>1</td>\n",
       "      <td>0</td>\n",
       "      <td>0</td>\n",
       "    </tr>\n",
       "    <tr>\n",
       "      <th>1</th>\n",
       "      <td>0.0</td>\n",
       "      <td>1</td>\n",
       "      <td>0</td>\n",
       "      <td>0</td>\n",
       "    </tr>\n",
       "    <tr>\n",
       "      <th>2</th>\n",
       "      <td>0.0</td>\n",
       "      <td>1</td>\n",
       "      <td>0</td>\n",
       "      <td>0</td>\n",
       "    </tr>\n",
       "    <tr>\n",
       "      <th>3</th>\n",
       "      <td>0.0</td>\n",
       "      <td>1</td>\n",
       "      <td>0</td>\n",
       "      <td>0</td>\n",
       "    </tr>\n",
       "    <tr>\n",
       "      <th>4</th>\n",
       "      <td>1.0</td>\n",
       "      <td>0</td>\n",
       "      <td>0</td>\n",
       "      <td>0</td>\n",
       "    </tr>\n",
       "    <tr>\n",
       "      <th>5</th>\n",
       "      <td>1.0</td>\n",
       "      <td>0</td>\n",
       "      <td>0</td>\n",
       "      <td>0</td>\n",
       "    </tr>\n",
       "    <tr>\n",
       "      <th>6</th>\n",
       "      <td>1.0</td>\n",
       "      <td>0</td>\n",
       "      <td>0</td>\n",
       "      <td>0</td>\n",
       "    </tr>\n",
       "    <tr>\n",
       "      <th>7</th>\n",
       "      <td>1.0</td>\n",
       "      <td>0</td>\n",
       "      <td>0</td>\n",
       "      <td>0</td>\n",
       "    </tr>\n",
       "    <tr>\n",
       "      <th>8</th>\n",
       "      <td>1.0</td>\n",
       "      <td>0</td>\n",
       "      <td>0</td>\n",
       "      <td>0</td>\n",
       "    </tr>\n",
       "    <tr>\n",
       "      <th>9</th>\n",
       "      <td>0.0</td>\n",
       "      <td>1</td>\n",
       "      <td>0</td>\n",
       "      <td>0</td>\n",
       "    </tr>\n",
       "    <tr>\n",
       "      <th>10</th>\n",
       "      <td>0.0</td>\n",
       "      <td>1</td>\n",
       "      <td>0</td>\n",
       "      <td>0</td>\n",
       "    </tr>\n",
       "    <tr>\n",
       "      <th>11</th>\n",
       "      <td>0.0</td>\n",
       "      <td>1</td>\n",
       "      <td>0</td>\n",
       "      <td>0</td>\n",
       "    </tr>\n",
       "    <tr>\n",
       "      <th>12</th>\n",
       "      <td>1.0</td>\n",
       "      <td>0</td>\n",
       "      <td>0</td>\n",
       "      <td>0</td>\n",
       "    </tr>\n",
       "    <tr>\n",
       "      <th>13</th>\n",
       "      <td>0.0</td>\n",
       "      <td>1</td>\n",
       "      <td>0</td>\n",
       "      <td>0</td>\n",
       "    </tr>\n",
       "    <tr>\n",
       "      <th>14</th>\n",
       "      <td>0.0</td>\n",
       "      <td>1</td>\n",
       "      <td>0</td>\n",
       "      <td>0</td>\n",
       "    </tr>\n",
       "    <tr>\n",
       "      <th>15</th>\n",
       "      <td>0.0</td>\n",
       "      <td>1</td>\n",
       "      <td>0</td>\n",
       "      <td>0</td>\n",
       "    </tr>\n",
       "    <tr>\n",
       "      <th>16</th>\n",
       "      <td>0.0</td>\n",
       "      <td>1</td>\n",
       "      <td>0</td>\n",
       "      <td>0</td>\n",
       "    </tr>\n",
       "    <tr>\n",
       "      <th>17</th>\n",
       "      <td>0.0</td>\n",
       "      <td>1</td>\n",
       "      <td>0</td>\n",
       "      <td>0</td>\n",
       "    </tr>\n",
       "    <tr>\n",
       "      <th>18</th>\n",
       "      <td>0.0</td>\n",
       "      <td>1</td>\n",
       "      <td>0</td>\n",
       "      <td>0</td>\n",
       "    </tr>\n",
       "    <tr>\n",
       "      <th>19</th>\n",
       "      <td>0.0</td>\n",
       "      <td>1</td>\n",
       "      <td>0</td>\n",
       "      <td>0</td>\n",
       "    </tr>\n",
       "    <tr>\n",
       "      <th>20</th>\n",
       "      <td>1.0</td>\n",
       "      <td>0</td>\n",
       "      <td>1</td>\n",
       "      <td>1</td>\n",
       "    </tr>\n",
       "    <tr>\n",
       "      <th>21</th>\n",
       "      <td>1.0</td>\n",
       "      <td>0</td>\n",
       "      <td>1</td>\n",
       "      <td>1</td>\n",
       "    </tr>\n",
       "    <tr>\n",
       "      <th>22</th>\n",
       "      <td>0.0</td>\n",
       "      <td>1</td>\n",
       "      <td>0</td>\n",
       "      <td>0</td>\n",
       "    </tr>\n",
       "    <tr>\n",
       "      <th>23</th>\n",
       "      <td>0.0</td>\n",
       "      <td>1</td>\n",
       "      <td>0</td>\n",
       "      <td>0</td>\n",
       "    </tr>\n",
       "    <tr>\n",
       "      <th>24</th>\n",
       "      <td>0.0</td>\n",
       "      <td>1</td>\n",
       "      <td>0</td>\n",
       "      <td>0</td>\n",
       "    </tr>\n",
       "    <tr>\n",
       "      <th>25</th>\n",
       "      <td>0.0</td>\n",
       "      <td>1</td>\n",
       "      <td>0</td>\n",
       "      <td>0</td>\n",
       "    </tr>\n",
       "    <tr>\n",
       "      <th>26</th>\n",
       "      <td>0.0</td>\n",
       "      <td>1</td>\n",
       "      <td>0</td>\n",
       "      <td>0</td>\n",
       "    </tr>\n",
       "    <tr>\n",
       "      <th>27</th>\n",
       "      <td>1.0</td>\n",
       "      <td>0</td>\n",
       "      <td>0</td>\n",
       "      <td>0</td>\n",
       "    </tr>\n",
       "    <tr>\n",
       "      <th>28</th>\n",
       "      <td>0.0</td>\n",
       "      <td>1</td>\n",
       "      <td>0</td>\n",
       "      <td>0</td>\n",
       "    </tr>\n",
       "    <tr>\n",
       "      <th>29</th>\n",
       "      <td>0.0</td>\n",
       "      <td>1</td>\n",
       "      <td>0</td>\n",
       "      <td>0</td>\n",
       "    </tr>\n",
       "    <tr>\n",
       "      <th>...</th>\n",
       "      <td>...</td>\n",
       "      <td>...</td>\n",
       "      <td>...</td>\n",
       "      <td>...</td>\n",
       "    </tr>\n",
       "    <tr>\n",
       "      <th>1061968</th>\n",
       "      <td>1.0</td>\n",
       "      <td>0</td>\n",
       "      <td>1</td>\n",
       "      <td>1</td>\n",
       "    </tr>\n",
       "    <tr>\n",
       "      <th>1061969</th>\n",
       "      <td>1.0</td>\n",
       "      <td>0</td>\n",
       "      <td>1</td>\n",
       "      <td>1</td>\n",
       "    </tr>\n",
       "    <tr>\n",
       "      <th>1061970</th>\n",
       "      <td>1.0</td>\n",
       "      <td>0</td>\n",
       "      <td>1</td>\n",
       "      <td>1</td>\n",
       "    </tr>\n",
       "    <tr>\n",
       "      <th>1061971</th>\n",
       "      <td>1.0</td>\n",
       "      <td>0</td>\n",
       "      <td>1</td>\n",
       "      <td>1</td>\n",
       "    </tr>\n",
       "    <tr>\n",
       "      <th>1061972</th>\n",
       "      <td>1.0</td>\n",
       "      <td>0</td>\n",
       "      <td>1</td>\n",
       "      <td>1</td>\n",
       "    </tr>\n",
       "    <tr>\n",
       "      <th>1061973</th>\n",
       "      <td>1.0</td>\n",
       "      <td>0</td>\n",
       "      <td>1</td>\n",
       "      <td>1</td>\n",
       "    </tr>\n",
       "    <tr>\n",
       "      <th>1061974</th>\n",
       "      <td>1.0</td>\n",
       "      <td>0</td>\n",
       "      <td>1</td>\n",
       "      <td>1</td>\n",
       "    </tr>\n",
       "    <tr>\n",
       "      <th>1061975</th>\n",
       "      <td>1.0</td>\n",
       "      <td>0</td>\n",
       "      <td>1</td>\n",
       "      <td>1</td>\n",
       "    </tr>\n",
       "    <tr>\n",
       "      <th>1061976</th>\n",
       "      <td>1.0</td>\n",
       "      <td>0</td>\n",
       "      <td>1</td>\n",
       "      <td>1</td>\n",
       "    </tr>\n",
       "    <tr>\n",
       "      <th>1061977</th>\n",
       "      <td>1.0</td>\n",
       "      <td>0</td>\n",
       "      <td>1</td>\n",
       "      <td>1</td>\n",
       "    </tr>\n",
       "    <tr>\n",
       "      <th>1061978</th>\n",
       "      <td>1.0</td>\n",
       "      <td>0</td>\n",
       "      <td>1</td>\n",
       "      <td>1</td>\n",
       "    </tr>\n",
       "    <tr>\n",
       "      <th>1061979</th>\n",
       "      <td>1.0</td>\n",
       "      <td>0</td>\n",
       "      <td>1</td>\n",
       "      <td>1</td>\n",
       "    </tr>\n",
       "    <tr>\n",
       "      <th>1061980</th>\n",
       "      <td>1.0</td>\n",
       "      <td>0</td>\n",
       "      <td>1</td>\n",
       "      <td>1</td>\n",
       "    </tr>\n",
       "    <tr>\n",
       "      <th>1061981</th>\n",
       "      <td>1.0</td>\n",
       "      <td>0</td>\n",
       "      <td>1</td>\n",
       "      <td>1</td>\n",
       "    </tr>\n",
       "    <tr>\n",
       "      <th>1061982</th>\n",
       "      <td>1.0</td>\n",
       "      <td>0</td>\n",
       "      <td>1</td>\n",
       "      <td>1</td>\n",
       "    </tr>\n",
       "    <tr>\n",
       "      <th>1061983</th>\n",
       "      <td>1.0</td>\n",
       "      <td>0</td>\n",
       "      <td>1</td>\n",
       "      <td>1</td>\n",
       "    </tr>\n",
       "    <tr>\n",
       "      <th>1061984</th>\n",
       "      <td>1.0</td>\n",
       "      <td>0</td>\n",
       "      <td>1</td>\n",
       "      <td>1</td>\n",
       "    </tr>\n",
       "    <tr>\n",
       "      <th>1061985</th>\n",
       "      <td>1.0</td>\n",
       "      <td>0</td>\n",
       "      <td>1</td>\n",
       "      <td>1</td>\n",
       "    </tr>\n",
       "    <tr>\n",
       "      <th>1061986</th>\n",
       "      <td>1.0</td>\n",
       "      <td>0</td>\n",
       "      <td>1</td>\n",
       "      <td>1</td>\n",
       "    </tr>\n",
       "    <tr>\n",
       "      <th>1061987</th>\n",
       "      <td>1.0</td>\n",
       "      <td>0</td>\n",
       "      <td>1</td>\n",
       "      <td>1</td>\n",
       "    </tr>\n",
       "    <tr>\n",
       "      <th>1061988</th>\n",
       "      <td>1.0</td>\n",
       "      <td>0</td>\n",
       "      <td>1</td>\n",
       "      <td>1</td>\n",
       "    </tr>\n",
       "    <tr>\n",
       "      <th>1061989</th>\n",
       "      <td>1.0</td>\n",
       "      <td>0</td>\n",
       "      <td>1</td>\n",
       "      <td>1</td>\n",
       "    </tr>\n",
       "    <tr>\n",
       "      <th>1061990</th>\n",
       "      <td>1.0</td>\n",
       "      <td>0</td>\n",
       "      <td>1</td>\n",
       "      <td>1</td>\n",
       "    </tr>\n",
       "    <tr>\n",
       "      <th>1061991</th>\n",
       "      <td>1.0</td>\n",
       "      <td>0</td>\n",
       "      <td>1</td>\n",
       "      <td>1</td>\n",
       "    </tr>\n",
       "    <tr>\n",
       "      <th>1061992</th>\n",
       "      <td>1.0</td>\n",
       "      <td>0</td>\n",
       "      <td>1</td>\n",
       "      <td>1</td>\n",
       "    </tr>\n",
       "    <tr>\n",
       "      <th>1061993</th>\n",
       "      <td>1.0</td>\n",
       "      <td>0</td>\n",
       "      <td>1</td>\n",
       "      <td>1</td>\n",
       "    </tr>\n",
       "    <tr>\n",
       "      <th>1061994</th>\n",
       "      <td>1.0</td>\n",
       "      <td>0</td>\n",
       "      <td>1</td>\n",
       "      <td>1</td>\n",
       "    </tr>\n",
       "    <tr>\n",
       "      <th>1061995</th>\n",
       "      <td>1.0</td>\n",
       "      <td>0</td>\n",
       "      <td>1</td>\n",
       "      <td>1</td>\n",
       "    </tr>\n",
       "    <tr>\n",
       "      <th>1061996</th>\n",
       "      <td>1.0</td>\n",
       "      <td>0</td>\n",
       "      <td>1</td>\n",
       "      <td>1</td>\n",
       "    </tr>\n",
       "    <tr>\n",
       "      <th>1061997</th>\n",
       "      <td>1.0</td>\n",
       "      <td>0</td>\n",
       "      <td>1</td>\n",
       "      <td>1</td>\n",
       "    </tr>\n",
       "  </tbody>\n",
       "</table>\n",
       "<p>1061998 rows × 4 columns</p>\n",
       "</div>"
      ],
      "text/plain": [
       "         covers_tue  活动赠券  type6  type6\n",
       "0               0.0     1      0      0\n",
       "1               0.0     1      0      0\n",
       "2               0.0     1      0      0\n",
       "3               0.0     1      0      0\n",
       "4               1.0     0      0      0\n",
       "5               1.0     0      0      0\n",
       "6               1.0     0      0      0\n",
       "7               1.0     0      0      0\n",
       "8               1.0     0      0      0\n",
       "9               0.0     1      0      0\n",
       "10              0.0     1      0      0\n",
       "11              0.0     1      0      0\n",
       "12              1.0     0      0      0\n",
       "13              0.0     1      0      0\n",
       "14              0.0     1      0      0\n",
       "15              0.0     1      0      0\n",
       "16              0.0     1      0      0\n",
       "17              0.0     1      0      0\n",
       "18              0.0     1      0      0\n",
       "19              0.0     1      0      0\n",
       "20              1.0     0      1      1\n",
       "21              1.0     0      1      1\n",
       "22              0.0     1      0      0\n",
       "23              0.0     1      0      0\n",
       "24              0.0     1      0      0\n",
       "25              0.0     1      0      0\n",
       "26              0.0     1      0      0\n",
       "27              1.0     0      0      0\n",
       "28              0.0     1      0      0\n",
       "29              0.0     1      0      0\n",
       "...             ...   ...    ...    ...\n",
       "1061968         1.0     0      1      1\n",
       "1061969         1.0     0      1      1\n",
       "1061970         1.0     0      1      1\n",
       "1061971         1.0     0      1      1\n",
       "1061972         1.0     0      1      1\n",
       "1061973         1.0     0      1      1\n",
       "1061974         1.0     0      1      1\n",
       "1061975         1.0     0      1      1\n",
       "1061976         1.0     0      1      1\n",
       "1061977         1.0     0      1      1\n",
       "1061978         1.0     0      1      1\n",
       "1061979         1.0     0      1      1\n",
       "1061980         1.0     0      1      1\n",
       "1061981         1.0     0      1      1\n",
       "1061982         1.0     0      1      1\n",
       "1061983         1.0     0      1      1\n",
       "1061984         1.0     0      1      1\n",
       "1061985         1.0     0      1      1\n",
       "1061986         1.0     0      1      1\n",
       "1061987         1.0     0      1      1\n",
       "1061988         1.0     0      1      1\n",
       "1061989         1.0     0      1      1\n",
       "1061990         1.0     0      1      1\n",
       "1061991         1.0     0      1      1\n",
       "1061992         1.0     0      1      1\n",
       "1061993         1.0     0      1      1\n",
       "1061994         1.0     0      1      1\n",
       "1061995         1.0     0      1      1\n",
       "1061996         1.0     0      1      1\n",
       "1061997         1.0     0      1      1\n",
       "\n",
       "[1061998 rows x 4 columns]"
      ]
     },
     "execution_count": 45,
     "metadata": {},
     "output_type": "execute_result"
    }
   ],
   "source": [
    "test[['covers_tue', '活动赠券', 'type6']]"
   ]
  },
  {
   "cell_type": "code",
   "execution_count": 112,
   "metadata": {},
   "outputs": [
    {
     "data": {
      "text/plain": [
       "0          0.0\n",
       "11         0.0\n",
       "34         0.0\n",
       "40         1.0\n",
       "67         0.0\n",
       "88         1.0\n",
       "106        1.0\n",
       "150        0.0\n",
       "241        1.0\n",
       "343        1.0\n",
       "348        0.0\n",
       "384        1.0\n",
       "385        1.0\n",
       "396        0.0\n",
       "426        1.0\n",
       "448        0.0\n",
       "459        0.0\n",
       "470        0.0\n",
       "505        1.0\n",
       "561        1.0\n",
       "566        0.0\n",
       "576        1.0\n",
       "588        1.0\n",
       "589        1.0\n",
       "611        1.0\n",
       "625        1.0\n",
       "626        1.0\n",
       "698        1.0\n",
       "742        0.0\n",
       "778        0.0\n",
       "          ... \n",
       "1061600    1.0\n",
       "1061601    1.0\n",
       "1061604    1.0\n",
       "1061613    1.0\n",
       "1061619    1.0\n",
       "1061621    1.0\n",
       "1061631    1.0\n",
       "1061647    1.0\n",
       "1061660    1.0\n",
       "1061701    1.0\n",
       "1061703    1.0\n",
       "1061704    1.0\n",
       "1061714    1.0\n",
       "1061716    1.0\n",
       "1061725    1.0\n",
       "1061730    1.0\n",
       "1061731    1.0\n",
       "1061755    1.0\n",
       "1061761    1.0\n",
       "1061769    1.0\n",
       "1061770    1.0\n",
       "1061782    1.0\n",
       "1061791    1.0\n",
       "1061796    1.0\n",
       "1061818    1.0\n",
       "1061844    1.0\n",
       "1061849    1.0\n",
       "1061898    1.0\n",
       "1061954    1.0\n",
       "1061994    1.0\n",
       "Name: covers_tue, Length: 146509, dtype: float64"
      ]
     },
     "execution_count": 112,
     "metadata": {},
     "output_type": "execute_result"
    }
   ],
   "source": [
    "test.loc[test['predict_correct'] == 0, 'covers_tue']"
   ]
  },
  {
   "cell_type": "code",
   "execution_count": 120,
   "metadata": {},
   "outputs": [
    {
     "data": {
      "image/png": "[encoded data removed]",
      "text/plain": [
       "<matplotlib.figure.Figure at 0x10c541910>"
      ]
     },
     "metadata": {},
     "output_type": "display_data"
    }
   ],
   "source": [
    "import pandas as pd\n",
    "import seaborn as sns, numpy as np\n",
    "x = pd.Series(test.loc[test['predict_correct'] == 1, 'covers_wed'], name='covers_tue')\n",
    "ax = sns.distplot(x)"
   ]
  },
  {
   "cell_type": "code",
   "execution_count": 15,
   "metadata": {
    "collapsed": true
   },
   "outputs": [],
   "source": [
    "import matplotlib\n",
    "import numpy as np\n",
    "import matplotlib.pyplot as plt\n",
    "%matplotlib inline  "
   ]
  },
  {
   "cell_type": "code",
   "execution_count": 50,
   "metadata": {},
   "outputs": [
    {
     "name": "stderr",
     "output_type": "stream",
     "text": [
      "/Users/Phoebe/anaconda/envs/py27/lib/python2.7/site-packages/ipykernel/__main__.py:1: SettingWithCopyWarning: \n",
      "A value is trying to be set on a copy of a slice from a DataFrame\n",
      "\n",
      "See the caveats in the documentation: http://pandas.pydata.org/pandas-docs/stable/indexing.html#indexing-view-versus-copy\n",
      "  if __name__ == '__main__':\n"
     ]
    }
   ],
   "source": [
    "test.drop('type6', inplace=True, axis=1)"
   ]
  },
  {
   "cell_type": "code",
   "execution_count": 54,
   "metadata": {},
   "outputs": [
    {
     "data": {
      "text/plain": [
       "array([[250893, 251553],\n",
       "       [471579,  87973]])"
      ]
     },
     "execution_count": 54,
     "metadata": {},
     "output_type": "execute_result"
    }
   ],
   "source": [
    "from sklearn.metrics import confusion_matrix\n",
    "confusion_matrix(test['活动赠券'], test['covers_tue'])"
   ]
  },
  {
   "cell_type": "code",
   "execution_count": 29,
   "metadata": {},
   "outputs": [
    {
     "data": {
      "text/plain": [
       "339526.0"
      ]
     },
     "execution_count": 29,
     "metadata": {},
     "output_type": "execute_result"
    }
   ],
   "source": [
    "sum(test['covers_tue'])"
   ]
  },
  {
   "cell_type": "code",
   "execution_count": 67,
   "metadata": {},
   "outputs": [
    {
     "data": {
      "text/plain": [
       "Predicted   False    True  __all__\n",
       "Actual                            \n",
       "False      648766   73706   722472\n",
       "True       246277   93249   339526\n",
       "__all__    895043  166955  1061998"
      ]
     },
     "execution_count": 67,
     "metadata": {},
     "output_type": "execute_result"
    }
   ],
   "source": [
    "from pandas_ml import ConfusionMatrix\n",
    "cm = ConfusionMatrix(test['covers_tue'], test['is_used'])\n",
    "\n",
    "cm"
   ]
  },
  {
   "cell_type": "code",
   "execution_count": 56,
   "metadata": {},
   "outputs": [
    {
     "data": {
      "text/plain": [
       "Predicted   False    True  __all__\n",
       "Actual                            \n",
       "False      656788  118854   775642\n",
       "True        65684  220672   286356\n",
       "__all__    722472  339526  1061998"
      ]
     },
     "execution_count": 56,
     "metadata": {},
     "output_type": "execute_result"
    }
   ],
   "source": [
    "from pandas_ml import ConfusionMatrix\n",
    "cm = ConfusionMatrix(test['type6'], test['covers_tue'])\n",
    "\n",
    "cm"
   ]
  },
  {
   "cell_type": "code",
   "execution_count": 128,
   "metadata": {},
   "outputs": [
    {
     "data": {
      "text/plain": [
       "339526.0"
      ]
     },
     "execution_count": 128,
     "metadata": {},
     "output_type": "execute_result"
    }
   ],
   "source": [
    "sum(test['covers_tue'])"
   ]
  },
  {
   "cell_type": "code",
   "execution_count": 129,
   "metadata": {},
   "outputs": [
    {
     "data": {
      "text/plain": [
       "915489"
      ]
     },
     "execution_count": 129,
     "metadata": {},
     "output_type": "execute_result"
    }
   ],
   "source": [
    "sum(test['predict_correct'])"
   ]
  },
  {
   "cell_type": "code",
   "execution_count": 142,
   "metadata": {},
   "outputs": [
    {
     "data": {
      "text/html": [
       "<div>\n",
       "<style scoped>\n",
       "    .dataframe tbody tr th:only-of-type {\n",
       "        vertical-align: middle;\n",
       "    }\n",
       "\n",
       "    .dataframe tbody tr th {\n",
       "        vertical-align: top;\n",
       "    }\n",
       "\n",
       "    .dataframe thead th {\n",
       "        text-align: right;\n",
       "    }\n",
       "</style>\n",
       "<table border=\"1\" class=\"dataframe\">\n",
       "  <thead>\n",
       "    <tr style=\"text-align: right;\">\n",
       "      <th></th>\n",
       "      <th>testset_group1_class</th>\n",
       "      <th>testset_group2_class</th>\n",
       "      <th>testset_group3_class</th>\n",
       "      <th>testset_group1_predict_prob_NotUsed</th>\n",
       "      <th>testset_group2_predict_prob_NotUsed</th>\n",
       "      <th>testset_group3_predict_prob_NotUsed</th>\n",
       "      <th>testset_group1_predict_prob_Used</th>\n",
       "      <th>testset_group2_predict_prob_Used</th>\n",
       "      <th>testset_group3_predict_prob_Used</th>\n",
       "      <th>testset_all_predict_class</th>\n",
       "      <th>...</th>\n",
       "      <th>coupon_type1_usage_rate</th>\n",
       "      <th>coupon_type6_usage_rate</th>\n",
       "      <th>coupon_used_weekend_perc</th>\n",
       "      <th>order_weekend_perc</th>\n",
       "      <th>worth_money_median</th>\n",
       "      <th>worth_money_std</th>\n",
       "      <th>InterOrder_fillna_w_start_date</th>\n",
       "      <th>InterCoup_fillna_w_start_date</th>\n",
       "      <th>Recency_fillna_w_start_date</th>\n",
       "      <th>is_used</th>\n",
       "    </tr>\n",
       "  </thead>\n",
       "  <tbody>\n",
       "    <tr>\n",
       "      <th>5</th>\n",
       "      <td>1.0</td>\n",
       "      <td>1.0</td>\n",
       "      <td>1.0</td>\n",
       "      <td>0.192956</td>\n",
       "      <td>0.393543</td>\n",
       "      <td>0.300485</td>\n",
       "      <td>0.807044</td>\n",
       "      <td>0.606457</td>\n",
       "      <td>0.699515</td>\n",
       "      <td>1.0</td>\n",
       "      <td>...</td>\n",
       "      <td>1.164706</td>\n",
       "      <td>1.000000</td>\n",
       "      <td>0.166667</td>\n",
       "      <td>0.086957</td>\n",
       "      <td>-0.5</td>\n",
       "      <td>0.389087</td>\n",
       "      <td>-0.034794</td>\n",
       "      <td>0.350108</td>\n",
       "      <td>-0.437647</td>\n",
       "      <td>1.0</td>\n",
       "    </tr>\n",
       "    <tr>\n",
       "      <th>53</th>\n",
       "      <td>1.0</td>\n",
       "      <td>1.0</td>\n",
       "      <td>1.0</td>\n",
       "      <td>0.147052</td>\n",
       "      <td>0.298475</td>\n",
       "      <td>0.280969</td>\n",
       "      <td>0.852948</td>\n",
       "      <td>0.701525</td>\n",
       "      <td>0.719031</td>\n",
       "      <td>1.0</td>\n",
       "      <td>...</td>\n",
       "      <td>3.891892</td>\n",
       "      <td>0.800000</td>\n",
       "      <td>0.300000</td>\n",
       "      <td>0.210526</td>\n",
       "      <td>-2.0</td>\n",
       "      <td>0.787245</td>\n",
       "      <td>-0.131290</td>\n",
       "      <td>0.137531</td>\n",
       "      <td>-0.327059</td>\n",
       "      <td>1.0</td>\n",
       "    </tr>\n",
       "    <tr>\n",
       "      <th>54</th>\n",
       "      <td>1.0</td>\n",
       "      <td>1.0</td>\n",
       "      <td>1.0</td>\n",
       "      <td>0.147052</td>\n",
       "      <td>0.298475</td>\n",
       "      <td>0.280969</td>\n",
       "      <td>0.852948</td>\n",
       "      <td>0.701525</td>\n",
       "      <td>0.719031</td>\n",
       "      <td>1.0</td>\n",
       "      <td>...</td>\n",
       "      <td>3.891892</td>\n",
       "      <td>0.800000</td>\n",
       "      <td>0.300000</td>\n",
       "      <td>0.210526</td>\n",
       "      <td>-2.0</td>\n",
       "      <td>0.787245</td>\n",
       "      <td>-0.131290</td>\n",
       "      <td>0.137531</td>\n",
       "      <td>-0.327059</td>\n",
       "      <td>1.0</td>\n",
       "    </tr>\n",
       "    <tr>\n",
       "      <th>67</th>\n",
       "      <td>0.0</td>\n",
       "      <td>1.0</td>\n",
       "      <td>0.0</td>\n",
       "      <td>0.891293</td>\n",
       "      <td>0.419086</td>\n",
       "      <td>0.879403</td>\n",
       "      <td>0.108707</td>\n",
       "      <td>0.580914</td>\n",
       "      <td>0.120597</td>\n",
       "      <td>0.0</td>\n",
       "      <td>...</td>\n",
       "      <td>1.800000</td>\n",
       "      <td>0.666667</td>\n",
       "      <td>0.000000</td>\n",
       "      <td>0.076923</td>\n",
       "      <td>0.0</td>\n",
       "      <td>0.438475</td>\n",
       "      <td>-0.041786</td>\n",
       "      <td>0.640873</td>\n",
       "      <td>-0.263529</td>\n",
       "      <td>1.0</td>\n",
       "    </tr>\n",
       "    <tr>\n",
       "      <th>148</th>\n",
       "      <td>1.0</td>\n",
       "      <td>1.0</td>\n",
       "      <td>1.0</td>\n",
       "      <td>0.342439</td>\n",
       "      <td>0.251080</td>\n",
       "      <td>0.183677</td>\n",
       "      <td>0.657561</td>\n",
       "      <td>0.748920</td>\n",
       "      <td>0.816323</td>\n",
       "      <td>1.0</td>\n",
       "      <td>...</td>\n",
       "      <td>3.521739</td>\n",
       "      <td>1.000000</td>\n",
       "      <td>0.272727</td>\n",
       "      <td>0.180723</td>\n",
       "      <td>0.0</td>\n",
       "      <td>0.892458</td>\n",
       "      <td>-0.206562</td>\n",
       "      <td>0.274405</td>\n",
       "      <td>-0.263529</td>\n",
       "      <td>1.0</td>\n",
       "    </tr>\n",
       "  </tbody>\n",
       "</table>\n",
       "<p>5 rows × 85 columns</p>\n",
       "</div>"
      ],
      "text/plain": [
       "     testset_group1_class  testset_group2_class  testset_group3_class  \\\n",
       "5                     1.0                   1.0                   1.0   \n",
       "53                    1.0                   1.0                   1.0   \n",
       "54                    1.0                   1.0                   1.0   \n",
       "67                    0.0                   1.0                   0.0   \n",
       "148                   1.0                   1.0                   1.0   \n",
       "\n",
       "     testset_group1_predict_prob_NotUsed  testset_group2_predict_prob_NotUsed  \\\n",
       "5                               0.192956                             0.393543   \n",
       "53                              0.147052                             0.298475   \n",
       "54                              0.147052                             0.298475   \n",
       "67                              0.891293                             0.419086   \n",
       "148                             0.342439                             0.251080   \n",
       "\n",
       "     testset_group3_predict_prob_NotUsed  testset_group1_predict_prob_Used  \\\n",
       "5                               0.300485                          0.807044   \n",
       "53                              0.280969                          0.852948   \n",
       "54                              0.280969                          0.852948   \n",
       "67                              0.879403                          0.108707   \n",
       "148                             0.183677                          0.657561   \n",
       "\n",
       "     testset_group2_predict_prob_Used  testset_group3_predict_prob_Used  \\\n",
       "5                            0.606457                          0.699515   \n",
       "53                           0.701525                          0.719031   \n",
       "54                           0.701525                          0.719031   \n",
       "67                           0.580914                          0.120597   \n",
       "148                          0.748920                          0.816323   \n",
       "\n",
       "     testset_all_predict_class   ...     coupon_type1_usage_rate  \\\n",
       "5                          1.0   ...                    1.164706   \n",
       "53                         1.0   ...                    3.891892   \n",
       "54                         1.0   ...                    3.891892   \n",
       "67                         0.0   ...                    1.800000   \n",
       "148                        1.0   ...                    3.521739   \n",
       "\n",
       "     coupon_type6_usage_rate  coupon_used_weekend_perc  order_weekend_perc  \\\n",
       "5                   1.000000                  0.166667            0.086957   \n",
       "53                  0.800000                  0.300000            0.210526   \n",
       "54                  0.800000                  0.300000            0.210526   \n",
       "67                  0.666667                  0.000000            0.076923   \n",
       "148                 1.000000                  0.272727            0.180723   \n",
       "\n",
       "     worth_money_median  worth_money_std  InterOrder_fillna_w_start_date  \\\n",
       "5                  -0.5         0.389087                       -0.034794   \n",
       "53                 -2.0         0.787245                       -0.131290   \n",
       "54                 -2.0         0.787245                       -0.131290   \n",
       "67                  0.0         0.438475                       -0.041786   \n",
       "148                 0.0         0.892458                       -0.206562   \n",
       "\n",
       "     InterCoup_fillna_w_start_date  Recency_fillna_w_start_date  is_used  \n",
       "5                         0.350108                    -0.437647      1.0  \n",
       "53                        0.137531                    -0.327059      1.0  \n",
       "54                        0.137531                    -0.327059      1.0  \n",
       "67                        0.640873                    -0.263529      1.0  \n",
       "148                       0.274405                    -0.263529      1.0  \n",
       "\n",
       "[5 rows x 85 columns]"
      ]
     },
     "execution_count": 142,
     "metadata": {},
     "output_type": "execute_result"
    }
   ],
   "source": [
    "results_all[results_all['testset_group2_class']==1].head()"
   ]
  },
  {
   "cell_type": "code",
   "execution_count": null,
   "metadata": {
    "collapsed": true
   },
   "outputs": [],
   "source": []
  }
 ],
 "metadata": {
  "anaconda-cloud": {},
  "kernelspec": {
   "display_name": "Python [py27]",
   "language": "python",
   "name": "Python [py27]"
  },
  "language_info": {
   "codemirror_mode": {
    "name": "ipython",
    "version": 2
   },
   "file_extension": ".py",
   "mimetype": "text/x-python",
   "name": "python",
   "nbconvert_exporter": "python",
   "pygments_lexer": "ipython2",
   "version": "2.7.12"
  }
 },
 "nbformat": 4,
 "nbformat_minor": 1
}
